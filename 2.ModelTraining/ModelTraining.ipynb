{
 "cells": [
  {
   "cell_type": "markdown",
   "id": "d014cde9",
   "metadata": {},
   "source": [
    "<img src=\"./assets/uca.png\" alt=\"Tech Logo\" align=\"center\" height=\"800\" width=\"800\"/>"
   ]
  },
  {
   "cell_type": "markdown",
   "id": "66840f86",
   "metadata": {},
   "source": [
    "<h1 align=\"left\" style=\"color:#000051;font-size: 30px\">TP : Classifiez des émotions vocales avec du deep learning</h1>"
   ]
  },
  {
   "cell_type": "markdown",
   "id": "3b406780",
   "metadata": {},
   "source": [
    "Pour ce TP, vous implémenterez un classifieur à base de réseau de neurones sur des données combinant les jeux de données RAVDESS et TESS avec la librairie keras. \n",
    "Repartez de ce notebook Jupyter qui passe en revue chaque partie du TP pour présenter des preuves et une analyse de vos résultats"
   ]
  },
  {
   "cell_type": "markdown",
   "id": "6f8a4a70",
   "metadata": {},
   "source": [
    "<h1 align=\"left\" style=\"color:#000051;font-size: 25px\">Partie 2 : Développement et évaluation du modèle de deep learning</h1>"
   ]
  },
  {
   "cell_type": "markdown",
   "id": "55df4019",
   "metadata": {},
   "source": [
    "Maintenant que les données sont pré-traitées, nous nous attacherons dans cette partie à créer puis évaluer des modèles de deep learning à même d'apprendre à reconnaitre les 4 types d'émotion à partir des données dont nous disposons"
   ]
  },
  {
   "cell_type": "markdown",
   "id": "04d71b9a",
   "metadata": {},
   "source": [
    "<h2 style=\"text-align: left; color:#20a08d; font-size: 25px\"><span>💾 <strong>A propos des jeux de données </strong></span></h2>"
   ]
  },
  {
   "cell_type": "markdown",
   "id": "06342987",
   "metadata": {},
   "source": [
    "Pour ce TP, nous utiliserons 2 jeux de données\n",
    "\n",
    "- **RAVDESS : Ryerson Audio-Visual Database of Emotional Speech and Song**\n",
    "https://zenodo.org/record/1188976#.X4sE0tDXKUl\n",
    "  - RAVDESS a été enregistrée avec 24 acteurs professionnels (12 femmes, 12 hommes), prononçant deux phrases lexicalement identiques avec un accent nord-américain neutre. Chaque phrase est prononcée avec deux niveaux d'intensité émotionnelle (normal, fort).\n",
    "  - **1440 fichiers** = 24 acteurs x 60 fichiers audio par acteur\n",
    "  - **8 émotions** (neutre, calme, joie, tristesse, colère, peur, dégout, surprise).\n",
    "\n",
    "\n",
    "\n",
    "- **TESS : Toronto Emotional Speech Set**\n",
    "https://tspace.library.utoronto.ca/handle/1807/24487\n",
    "  - Ces données ont été enregistrées par le Northwestern University Auditory. Un ensemble de 200 mots cibles ont été prononcés dans la phrase \"Dites le mot _____\" par deux actrices (âgées de 26 et 64 ans) et des enregistrements ont été réalisés lorsque ces phrases ont été prononcées avec chacune des sept émotions décrites ci-dessous.\n",
    "Les deux actrices ont été recrutées dans la région de Toronto. Les deux actrices parlent l'anglais comme première langue, ont fait des études universitaires et ont une formation musicale.\n",
    "  - **2800 fichiers** = 2 acteurs x 200 phrases x 7 émotions\n",
    "  - **7 émotions** (neutre, joie, tristesse, colère, peur, dégoût, surprise)('calme' ne fait pas partie de cette BD) "
   ]
  },
  {
   "cell_type": "markdown",
   "id": "fd015a27",
   "metadata": {},
   "source": [
    "Pour ce TP, pour des considérations de volume de données, nous n'avons retenu que 4 des émotions:\n",
    "- **neutre**\n",
    "- **joie**\n",
    "- **tristesse**\n",
    "- **colère**"
   ]
  },
  {
   "cell_type": "markdown",
   "id": "3d6f0e40",
   "metadata": {},
   "source": [
    "<h2 style=\"text-align: left; color:#20a08d; font-size: 25px\"><span>📥 <strong>1. Import des librairies </strong></span></h2>"
   ]
  },
  {
   "cell_type": "markdown",
   "id": "b763fd5d",
   "metadata": {},
   "source": [
    "Si vous avez besoin d'installer des libraires Python pour ce TP, décommentez et exécutez la cellule ci-dessous"
   ]
  },
  {
   "cell_type": "code",
   "execution_count": null,
   "id": "65a542b0",
   "metadata": {},
   "outputs": [],
   "source": [
    "#!pip3 install numpy==1.18.5\n",
    "#!pip3 install pydub\n",
    "#!pip3 install librosa\n",
    "#!pip3 install noisereduce\n",
    "#!pip3 install matplotlib\n",
    "#!pip3 install IPython\n",
    "#!pip3 install tensorflow\n",
    "#!pip3 install scikit-learn\n",
    "#!pip3 install scipy\n",
    "#!pip3 install pandas"
   ]
  },
  {
   "cell_type": "code",
   "execution_count": null,
   "id": "002803f8",
   "metadata": {},
   "outputs": [],
   "source": [
    "# Librairies de la bibliothèque standard Python\n",
    "import os\n",
    "import random\n",
    "\n",
    "# Librairies de calcul numérique\n",
    "import numpy as np\n",
    "import pandas as pd\n",
    "\n",
    "# Librairies de traitement audio\n",
    "from pydub import AudioSegment, effects\n",
    "import librosa\n",
    "import soundfile as sf\n",
    "from scipy.io import wavfile\n",
    "import noisereduce as nr\n",
    "from librosa import display   \n",
    "\n",
    "# Librairies de data-visualization\n",
    "import matplotlib.pyplot as plt\n",
    "import IPython.display as ipd \n",
    "import seaborn as sns\n",
    "%matplotlib inline\n",
    "\n",
    "# Librairies de machine learning\n",
    "from sklearn.model_selection import train_test_split\n",
    "from sklearn.preprocessing import normalize\n",
    "import tensorflow as tf\n",
    "config = tf.ConfigProto()\n",
    "config.gpu_options.allow_growth = True\n",
    "session = tf.Session(config=config)\n",
    "import time\n",
    "import tensorflow\n",
    "from tensorflow.keras.callbacks import ModelCheckpoint, EarlyStopping, ReduceLROnPlateau\n",
    "from tensorflow.keras.models import Model, load_model, Sequential\n",
    "from tensorflow.keras.layers import Permute, Dense, Activation, Dropout, Input, Masking, TimeDistributed, LSTM, Conv1D, Bidirectional, Conv2D\n",
    "from tensorflow.keras.layers import GRU, CuDNNGRU, LSTM, Bidirectional, BatchNormalization, Reshape, MaxPooling2D, Flatten\n",
    "from tensorflow.keras.utils import normalize, plot_model\n",
    "import tensorflow.keras.backend as K\n",
    "from tensorflow.keras.optimizers import Adam\n",
    "from tensorflow.keras.callbacks import TensorBoard, ModelCheckpoint\n"
   ]
  },
  {
   "cell_type": "markdown",
   "id": "83399f27",
   "metadata": {},
   "source": [
    "<h2 style=\"text-align: left; color:#20a08d; font-size: 25px\"><span>🔎 <strong>2. Chargement des données d'entrainement et labels</strong></span></h2>"
   ]
  },
  {
   "cell_type": "markdown",
   "id": "f77c56c6",
   "metadata": {},
   "source": [
    "Avant de commencer, chargeons les données d'entrainement et les labels que nous avons précédemment pré-traitées. \n",
    "\n",
    "Pour ce faire, utilisons également la librairie pickle."
   ]
  },
  {
   "cell_type": "code",
   "execution_count": null,
   "id": "e5165b39",
   "metadata": {},
   "outputs": [],
   "source": [
    "import pickle\n",
    "with open('../1.DataPreprocessing/features.array', 'rb') as features:\n",
    "    features_array = pickle.load(features)"
   ]
  },
  {
   "cell_type": "code",
   "execution_count": null,
   "id": "c1402f77",
   "metadata": {},
   "outputs": [],
   "source": [
    "import pickle\n",
    "with open('../1.DataPreprocessing/labels.array', 'rb') as labels:\n",
    "    labels_array = pickle.load(labels)"
   ]
  },
  {
   "cell_type": "markdown",
   "id": "a1133e8a",
   "metadata": {},
   "source": [
    "<h2 style=\"text-align: left; color:#20a08d; font-size: 25px\"><span>🧮 <strong>3. Normalisation des données d'entrainement</strong></span></h2>"
   ]
  },
  {
   "cell_type": "markdown",
   "id": "094be80b",
   "metadata": {},
   "source": [
    "En machine learning, la normalisation permet de converger plus rapidement vers le minimum d'erreur et d'éviter la prédominance d'une caractéristique du jeu de données sur une autre."
   ]
  },
  {
   "cell_type": "markdown",
   "id": "144e6a88",
   "metadata": {},
   "source": [
    "<p style=\"text-align: left; font-size: 16px; color:#131fcf\"><span>🖥️  Ecrivez le code permettant de normaliser les données d'entrainement <strong>features_array</strong> afin de ramener les valeurs entre 0 et 1</span></p>"
   ]
  },
  {
   "cell_type": "markdown",
   "id": "b7c15d25",
   "metadata": {},
   "source": [
    "<p style=\"text-align: left; font-size: 16px; color:#ec8f1a\"><span>📚  \n",
    "normalize\n",
    " : </span> <a href=\"https://www.kite.com/python/docs/sklearn.preprocessing.normalize\">https://www.kite.com/python/docs/sklearn.preprocessing.normalize</a></p> "
   ]
  },
  {
   "cell_type": "code",
   "execution_count": null,
   "id": "b3ab3339",
   "metadata": {},
   "outputs": [],
   "source": [
    "from sklearn.preprocessing import normalize\n",
    "\n",
    "features_array = normalize(features_array)"
   ]
  },
  {
   "cell_type": "markdown",
   "id": "f5a682ad",
   "metadata": {},
   "source": [
    "<h2 style=\"text-align: left; color:#20a08d; font-size: 25px\"><span>🪓 <strong>4. Partitionnement des données</strong></span></h2>"
   ]
  },
  {
   "cell_type": "markdown",
   "id": "bd7c06fa",
   "metadata": {},
   "source": [
    "Le jeu de données  ́etant désormais généré, il est désormais nécessaire de le structurer afin de réaliser l’apprentissage automatique du classifieur. Le jeu de données doit être réparti en :\n",
    "- Un jeu de données pour l'entrainement\n",
    "- Un jeu de données pour la validation\n",
    "- Un jeu de données pour le test"
   ]
  },
  {
   "cell_type": "markdown",
   "id": "3eb0720c",
   "metadata": {},
   "source": [
    "<p style=\"text-align: left; font-size: 16px; color:#7a0f43\"><span>❓ En apprentissage automatique, quel est le rôle du jeu de données d’entraînement, de celui de validation et de celui de test ?</span></p>"
   ]
  },
  {
   "cell_type": "code",
   "execution_count": null,
   "id": "8b29b063",
   "metadata": {},
   "outputs": [],
   "source": []
  },
  {
   "cell_type": "markdown",
   "id": "428f91f1",
   "metadata": {},
   "source": [
    "Pour ce faire, la librairie scikit-learn dispose de la fonction **train_test_split()** permettant de partitionner les données "
   ]
  },
  {
   "cell_type": "markdown",
   "id": "cedf9572",
   "metadata": {},
   "source": [
    "<p style=\"text-align: left; font-size: 16px; color:#131fcf\"><span>🖥️  Ecrivez le code permettant de partitionner les données d'entrainement <strong>features_array</strong> en sous-ensemble d'entrainement et en sous-ensemble de test. Faites attention à la répartition équitable des classes dans les données d'entrainement et de test</span></p>"
   ]
  },
  {
   "cell_type": "markdown",
   "id": "b1b05ed1",
   "metadata": {},
   "source": [
    "<p style=\"text-align: left; font-size: 16px; color:#ec8f1a\"><span>📚  \n",
    "sklearn.model_selection.train_test_split\n",
    " : </span> <a href=\"https://scikit-learn.org/stable/modules/generated/sklearn.model_selection.train_test_split.html\">https://scikit-learn.org/stable/modules/generated/sklearn.model_selection.train_test_split.html</a></p> "
   ]
  },
  {
   "cell_type": "code",
   "execution_count": null,
   "id": "d9b41856",
   "metadata": {},
   "outputs": [],
   "source": [
    "from sklearn.model_selection import train_test_split\n"
   ]
  },
  {
   "cell_type": "code",
   "execution_count": null,
   "id": "1c26bd5a",
   "metadata": {},
   "outputs": [],
   "source": []
  },
  {
   "cell_type": "markdown",
   "id": "c40b45bd",
   "metadata": {},
   "source": [
    "Utilisez le code ci-dessous pour afficher la répartition des classes dans vos données, avec la supposition que vos labels d'entrainement sont dans la variable **y_train** et que vos labels de test sont dans la variable **y_test**"
   ]
  },
  {
   "cell_type": "code",
   "execution_count": null,
   "id": "87ee1b50",
   "metadata": {},
   "outputs": [],
   "source": [
    "import pandas as pd\n",
    "y_train_series = pd.Series(y_train)\n",
    "y_train_series.value_counts(normalize=True).plot(kind=\"pie\", shadow=True, autopct=\"%1.1f\", figsize=(12, 10), title=\"Répartition des classes dans les données d'entrainement\")\n",
    "plt.show()\n",
    "\n",
    "y_test_series = pd.Series(y_test)\n",
    "y_test_series.value_counts(normalize=True).plot(kind=\"pie\", shadow=True, autopct=\"%1.1f\", figsize=(12, 10), title=\"Répartition des classes dans les données d'entrainement\")\n",
    "plt.show()"
   ]
  },
  {
   "cell_type": "markdown",
   "id": "fba405a3",
   "metadata": {},
   "source": [
    "<h2 style=\"text-align: left; color:#20a08d; font-size: 25px\"><span>🧠 <strong>5. Conception de modèles de deep learning</strong></span></h2>"
   ]
  },
  {
   "cell_type": "markdown",
   "id": "14e45644",
   "metadata": {},
   "source": [
    "Nous approchons du but, nous allons commencer à concevoir puis entrainer des modèles de deep learning pour modéliser notre problème de reconnaissance d'émotions."
   ]
  },
  {
   "cell_type": "markdown",
   "id": "22aab599",
   "metadata": {},
   "source": [
    "<h3 style=\"text-align: left; color:#20a08d; font-size: 20px\"><span>🧠 <strong>5.1 Définition des hyperparamètres </strong></span></h3>"
   ]
  },
  {
   "cell_type": "markdown",
   "id": "d4bbaf05",
   "metadata": {},
   "source": [
    "Dans la conception d’un modèle de reseau de neurones, les hyperparamètres permettent de configurer differents  ́elements de l’architecture neuronale, et de superviser comment le modèle apprend"
   ]
  },
  {
   "cell_type": "markdown",
   "id": "cb320833",
   "metadata": {},
   "source": [
    "<p style=\"text-align: left; font-size: 16px; color:#7a0f43\"><span>❓ Voici quelques hyperparamètres, savez-vous à quoi elles servent dans la conception et l’apprentissage du modèle ?</span></p>"
   ]
  },
  {
   "cell_type": "markdown",
   "id": "01c516ec",
   "metadata": {},
   "source": [
    "<img src=\"./assets/hyperparameters.png\" alt=\"Tech Logo\" align=\"center\" height=\"300\" width=\"300\"/>"
   ]
  },
  {
   "cell_type": "code",
   "execution_count": null,
   "id": "ce3e6bef",
   "metadata": {},
   "outputs": [],
   "source": []
  },
  {
   "cell_type": "markdown",
   "id": "058f370b",
   "metadata": {},
   "source": [
    "Voici les valeurs des hyperparamètres à utiliser pour la conception du modèle"
   ]
  },
  {
   "cell_type": "code",
   "execution_count": null,
   "id": "5d9d059d",
   "metadata": {},
   "outputs": [],
   "source": [
    "#Model hyperparameters\n",
    "BATCH_SIZE = 16\n",
    "INIT_LR = 1e-3\n",
    "EPOCHS = 50\n",
    "ACTIVATION_FUNCTION = \"relu\"\n",
    "LOSS_TYPE = \"sparse_categorical_crossentropy\""
   ]
  },
  {
   "cell_type": "markdown",
   "id": "b8d1ca6b",
   "metadata": {},
   "source": [
    "<h3 style=\"text-align: left; color:#20a08d; font-size: 20px\"><span>🧠 <strong>5.2 Définition des callbacks </strong></span></h3>"
   ]
  },
  {
   "cell_type": "markdown",
   "id": "a9567527",
   "metadata": {},
   "source": [
    "Dans Keras, les callbacks permettent de réaliser des traitements périodiques pendant l’apprentissage du modèle, au début ou à la fin de l’apprentissage, au debut ou la fin de chaque itération(epoch), au début ou à la fin de chaque batch. Les callbacks peuvent ainsi permettre d’influer sur ou d’observer l’apprentissage en cours"
   ]
  },
  {
   "cell_type": "markdown",
   "id": "b98bc993",
   "metadata": {},
   "source": [
    "<p style=\"text-align: left; font-size: 16px; color:#7a0f43\"><span>❓ Pouvez-vous expliquer comment chacun de ces callbacks influe sur le processus d’entraînement ?</span></p>"
   ]
  },
  {
   "cell_type": "markdown",
   "id": "78a8c15e",
   "metadata": {},
   "source": [
    "<img src=\"./assets/callbacks.png\" alt=\"Tech Logo\" align=\"center\" height=\"300\" width=\"300\"/>"
   ]
  },
  {
   "cell_type": "markdown",
   "id": "a70c8240",
   "metadata": {},
   "source": [
    "<p style=\"text-align: left; font-size: 16px; color:#131fcf\"><span>🖥️  Ecrivez le code permettant de créer 4 instances de callbacks permettant de réaliser des appels de fonctions prédéfinis:  \n",
    "    <ul style=\"text-align: left; font-size: 16px; color:#131fcf\">\n",
    "            <li><strong>checkpointer</strong>: doit permettre d'enregistrer à chaque epoch un fichier de poids \"model.h5\" dans le répertoire CHECKPOINTS_FOLDER en veillant à n'enregistrer le modèle que lorsque la précision (accuracy) s'améliore</li>\n",
    "            <li><strong>reduce_lr</strong>:doit permettre de diviser par deux le learning rate à chaque fois la précision (accuracy) sur le dataset de validation ne diminue pas pendant 10 epochs, en veillant à ce que le learning ne descende jamais en dessous de 1e-10.</li>\n",
    "        <li><strong>early_stop</strong>: doit permettre d'arrêter l'entraînement du modèle lorsque la précision (accuracy) sur le dataset de validation n'augmente pas pendant 25 epochs</li>\n",
    "        <li><strong>tensorboard</strong>: doit permettre d'enregistrer les logs et métadonnées de l'entraînement dans le répertoire CHECKPOINTS_FOLDER</li>\n",
    "\n",
    "</ul>\n",
    "    </span></p>"
   ]
  },
  {
   "cell_type": "markdown",
   "id": "48b1a21d",
   "metadata": {},
   "source": [
    "<p style=\"text-align: left; font-size: 16px; color:#ec8f1a\"><span>📚  \n",
    "Quick Start with Tensorflow Callbacks\n",
    " : </span> <a href=\"https://www.analyticsvidhya.com/blog/2021/08/quick-start-with-tensorflow-callbacks/\">https://www.analyticsvidhya.com/blog/2021/08/quick-start-with-tensorflow-callbacks/"
   ]
  },
  {
   "cell_type": "code",
   "execution_count": null,
   "id": "740081e0",
   "metadata": {},
   "outputs": [],
   "source": [
    "CHECKPOINTS_FOLDER = \"./checkpoints\"\n"
   ]
  },
  {
   "cell_type": "markdown",
   "id": "a3c25126",
   "metadata": {},
   "source": [
    "<h3 style=\"text-align: left; color:#20a08d; font-size: 20px\"><span>🧠 <strong>5.3 Conception de l'architecture neuronale </strong></span></h3>"
   ]
  },
  {
   "cell_type": "markdown",
   "id": "64367baa",
   "metadata": {},
   "source": [
    "Nous allons ici coder l'architecture neuronale de notre réseau. Dans Keras, bien souvent, un réseau de neurones est défini comme une séquence de couches connectées les unes aux autres. C'est pour cela que Keras propose un objet modèle appelé **Sequential()**"
   ]
  },
  {
   "cell_type": "markdown",
   "id": "07a2eca1",
   "metadata": {},
   "source": [
    "<p style=\"text-align: left; font-size: 16px; color:#131fcf\"><span>🖥️  Ecrivez le code dans la fonction  <strong>build_architecture</strong> permettant de définir séquentiellement l'architecture du réseau de neurones </span></p>"
   ]
  },
  {
   "cell_type": "markdown",
   "id": "abced9f5",
   "metadata": {},
   "source": [
    "<p style=\"text-align: left; font-size: 16px; color:#131fcf\"><span>🖥️  L'architecture neuronale à coder séquentiellement est la suivante :  \n",
    "\n",
    "<ul style=\"text-align: left; font-size: 16px; color:#131fcf\">\n",
    "    \n",
    "<strong><li>Couche convolutionnelle #1</li></strong>\n",
    "    <ul>\n",
    "        <li>Nombre de filtres convolutionnels : 32</li>\n",
    "        <li>Taille des filtres : 15</li>\n",
    "        <li>Stride : 4</li>\n",
    "        <li>Fonction d'activation : relu</li>\n",
    "    </ul>\n",
    "\n",
    "<strong><li>Couche BatchNormalization</li></strong>\n",
    "\n",
    "<strong><li>Couche convolutionnelle #2</li></strong>\n",
    "    <ul>\n",
    "        <li>Nombre de filtres convolutionnels : 64</li>\n",
    "        <li>Taille des filtres : 15</li>\n",
    "        <li>Stride : 4</li>\n",
    "        <li>Fonction d'activation : relu</li>\n",
    "    </ul>\n",
    "\n",
    "<strong><li>Couche BatchNormalization</li></strong>\n",
    "\n",
    "<strong><li>Couche convolutionnelle #3</li></strong>\n",
    "    <ul>\n",
    "        <li>Nombre de filtres convolutionnels : 64</li>\n",
    "        <li>Taille des filtres : 15</li>\n",
    "        <li>Stride : 4</li>\n",
    "        <li>Fonction d'activation : relu</li>\n",
    "    </ul>\n",
    "\n",
    "<strong><li>Couche BatchNormalization</li></strong>\n",
    "\n",
    "<strong><li>Couche reccurente LSTM #1</li></strong>\n",
    "    <ul>\n",
    "        <li>Nombre d'unités : 64</li>\n",
    "    </ul>\n",
    "\n",
    "<strong><li>Couche dense #1</li></strong>\n",
    "    <ul>\n",
    "        <li>Nombre d'unités : 64</li>\n",
    "        <li>Fonction d'activation : relu</li>\n",
    "    </ul>\n",
    " \n",
    "<strong><li>Couche dense #2</li></strong>\n",
    "    <ul>\n",
    "        <li>Nombre d'unités : ?</li>\n",
    "        <li>Fonction d'activation : softmax</li>\n",
    "    </ul>\n",
    "\n",
    "\n",
    "</span>\n",
    "\n",
    "</p>\n",
    "\n",
    "</ul>"
   ]
  },
  {
   "cell_type": "markdown",
   "id": "78f01c97",
   "metadata": {},
   "source": [
    "<p style=\"text-align: left; font-size: 16px; color:#ec8f1a\"><span>📚  \n",
    "How Do Convolutional Layers Work in Deep Learning Neural Networks?\n",
    " : </span> <a href=\"https://machinelearningmastery.com/convolutional-layers-for-deep-learning-neural-networks/\">https://machinelearningmastery.com/convolutional-layers-for-deep-learning-neural-networks/</a></p> "
   ]
  },
  {
   "cell_type": "markdown",
   "id": "de50b65f",
   "metadata": {},
   "source": [
    "<p style=\"text-align: left; font-size: 16px; color:#ec8f1a\"><span>📚  \n",
    "Conv1D layer : </span> <a href=\"https://keras.io/api/layers/convolution_layers/convolution1d/\">https://keras.io/api/layers/convolution_layers/convolution1d/</a></p> "
   ]
  },
  {
   "cell_type": "markdown",
   "id": "36c7e102",
   "metadata": {},
   "source": [
    "<p style=\"text-align: left; font-size: 16px; color:#ec8f1a\"><span>📚  \n",
    "LSTM layer : </span> <a href=\"https://keras.io/api/layers/recurrent_layers/lstm/\">https://keras.io/api/layers/recurrent_layers/lstm/</a></p> "
   ]
  },
  {
   "cell_type": "markdown",
   "id": "ef2ab835",
   "metadata": {},
   "source": [
    "<p style=\"text-align: left; font-size: 16px; color:#ec8f1a\"><span>📚  \n",
    "BatchNormalization layer : </span> <a href=\"https://keras.io/api/layers/normalization_layers/batch_normalization/\">https://keras.io/api/layers/normalization_layers/batch_normalization/</a></p> "
   ]
  },
  {
   "cell_type": "code",
   "execution_count": null,
   "id": "2855f44a",
   "metadata": {},
   "outputs": [],
   "source": [
    "from tensorflow.keras.models import Sequential\n",
    "from tensorflow.keras.layers import Dense, Activation, LSTM, Conv1D, BatchNormalization\n",
    "\n",
    "def build_architecture():\n",
    "    \n",
    "    '''\n",
    "    Fonction permettant de définir l'architecture d'un réseau neuronal\n",
    "\n",
    "            Parameters:\n",
    "                    Rien\n",
    "\n",
    "                    \n",
    "\n",
    "            Returns:\n",
    "                    model (Keras Model Sequential) : modèle séquentiel de Keras\n",
    "    '''\n",
    "        \n",
    "    \n",
    "    return model"
   ]
  },
  {
   "cell_type": "markdown",
   "id": "18de23ff",
   "metadata": {},
   "source": [
    "<p style=\"text-align: left; font-size: 16px; color:#131fcf\"><span>🖥️  Ecrivez le code permettant d'afficher l'architecture du modèle </span></p>"
   ]
  },
  {
   "cell_type": "markdown",
   "id": "34c5e386",
   "metadata": {},
   "source": [
    "<p style=\"text-align: left; font-size: 16px; color:#ec8f1a\"><span>📚  \n",
    "How to Visualize a Deep Learning Neural Network Model in Keras : </span> <a href=\"https://machinelearningmastery.com/visualize-deep-learning-neural-network-model-keras/\">https://machinelearningmastery.com/visualize-deep-learning-neural-network-model-keras/</a></p> "
   ]
  },
  {
   "cell_type": "code",
   "execution_count": null,
   "id": "8f8455eb",
   "metadata": {},
   "outputs": [],
   "source": [
    "model = build_architecture()\n"
   ]
  },
  {
   "cell_type": "markdown",
   "id": "8de49142",
   "metadata": {},
   "source": [
    "<h3 style=\"text-align: left; color:#20a08d; font-size: 20px\"><span>🧠 <strong>5.4 Compilation de l'architecture neuronale </strong></span></h3>"
   ]
  },
  {
   "cell_type": "markdown",
   "id": "ad258a40",
   "metadata": {},
   "source": [
    "Maintenant que le modèle est défini, nous pouvons le compiler.\n",
    "\n",
    "La compilation du modèle utilise les bibliothèques numériques efficaces en back-end telles que Theano ou TensorFlow. Le backend choisit automatiquement la meilleure façon de représenter le réseau pour l'entrainement et de faire des prédictions. La compilation découvre également sur quel matériel de votre ordinateur exécuter les différents calculs nécessaires pendant l'entrainement et la prédiction : CPU ou GPU.\n",
    "\n",
    "Lors de la compilation, nous devons spécifier certaines propriétés supplémentaires requises lors de l'entrainement du réseau. N'oubliez pas qu'entrainer un réseau signifie trouver le meilleur ensemble de poids pour approximer les entrées aux sorties dans notre ensemble de données.\n",
    "\n",
    "Nous devons spécifier :\n",
    "- la fonction de perte à utiliser pour évaluer l'erreur, \n",
    "- l'optimiseur qui sera utilisé pour les valeurs de poids qui minimisent la fonction de perte \n",
    "- toutes les métriques que nous aimerions collecter et monitorer pendant l'entrainement."
   ]
  },
  {
   "cell_type": "markdown",
   "id": "be215780",
   "metadata": {},
   "source": [
    "<img src=\"./assets/compile.png\" alt=\"Tech Logo\" align=\"center\" height=\"800\" width=\"800\"/>"
   ]
  },
  {
   "cell_type": "markdown",
   "id": "e2ea41b8",
   "metadata": {},
   "source": [
    "<p style=\"text-align: left; font-size: 16px; color:#131fcf\"><span>🖥️  Ecrivez le code permettant de compiler l'architecture du réseau de neurones en utilisant une partie des hyperparamètres définis plus haut. Monitorez la métrique accuracy</span></p>"
   ]
  },
  {
   "cell_type": "markdown",
   "id": "8aeeb9c0",
   "metadata": {},
   "source": [
    "<p style=\"text-align: left; font-size: 16px; color:#ec8f1a\"><span>📚  \n",
    "How to compile a keras model? : </span> <a href=\"https://www.projectpro.io/recipes/compile-keras-model\">https://www.projectpro.io/recipes/compile-keras-model/</a></p> "
   ]
  },
  {
   "cell_type": "code",
   "execution_count": null,
   "id": "8edb4967",
   "metadata": {},
   "outputs": [],
   "source": []
  },
  {
   "cell_type": "markdown",
   "id": "d196f6a7",
   "metadata": {},
   "source": [
    "<h3 style=\"text-align: left; color:#20a08d; font-size: 20px\"><span>🧠 <strong>5.5 Entrainement du modèle </strong></span></h3>"
   ]
  },
  {
   "cell_type": "markdown",
   "id": "c7ce19e9",
   "metadata": {},
   "source": [
    "Nous avons défini notre modèle et l'avons compilé pour un calcul efficace. Il est maintenant temps d'exécuter l'entrainement du modèle sur certaines données.\n",
    "\n",
    "Nous pouvons entraîner notre modèle sur nos données en appelant la fonction **fit()** sur le modèle."
   ]
  },
  {
   "cell_type": "markdown",
   "id": "67019856",
   "metadata": {},
   "source": [
    "<img src=\"./assets/training.png\" alt=\"Tech Logo\" align=\"center\" height=\"800\" width=\"800\"/>"
   ]
  },
  {
   "cell_type": "markdown",
   "id": "122f8f2e",
   "metadata": {},
   "source": [
    "L'entrainement se déroule sur des \"epoch\" et chaque \"epoch\" est divisée en \"batch\".\n",
    "\n",
    "- \"epoch\" : Itération complète correspondant au traitement de toutes les données du jeu de données d'apprentissage par le modèle.\n",
    "- \"batch\" : Lot de plusieurs données soumis séquentiellement au modèle au cours d'une \"epoch\" avant que les poids ne soient mis à jour.\n",
    "\n",
    "Une \"epoch\" est composée d'un ou plusieurs \"batch\" en fonction de la taille de \"batch\" choisie. Le modèle est entrainé sur plusieurs \"epoch\"."
   ]
  },
  {
   "cell_type": "markdown",
   "id": "00b6872a",
   "metadata": {},
   "source": [
    "- Le processus d'apprentissage s'exécutera donc pendant un nombre fixe d'itérations à travers l'ensemble de données appelé epochs, que nous devons spécifier à l'aide de l'argument epochs. \n",
    "- Nous devons également définir la taille des batchs à l'aide de l'argument batch_size.\n",
    "\n",
    "Nous voulons entraîner suffisamment le modèle pour qu'il apprenne une bonnne (ou assez bonne) approximation des données d'entrées. Le modèle aura toujours une erreur, mais la quantité d'erreur se stabilisera à un certain moment pour une configuration de modèle donnée. **C'est ce qu'on appelle la convergence des modèles. **"
   ]
  },
  {
   "cell_type": "markdown",
   "id": "a7e19679",
   "metadata": {},
   "source": [
    "<p style=\"text-align: left; font-size: 16px; color:#131fcf\"><span>🖥️  Ecrivez le code permettant d'entrainer le réseau de neurones convolutionnel et recuurent défini et compilé. \n",
    "    Lancez l'entrainement pendant 50 itérations, en appliquant la liste de callbacks précédemment définis. Récupérez l'historique de l'entrainement dans la variable training_history\n",
    "\n",
    " </span></p>"
   ]
  },
  {
   "cell_type": "markdown",
   "id": "95579b3f",
   "metadata": {},
   "source": [
    "<p style=\"text-align: left; font-size: 16px; color:#ec8f1a\"><span>📚  \n",
    "Visualizing training performance with TensorFlow 2 and Keras : </span> <a href=\"https://www.machinecurve.com/index.php/2019/10/08/how-to-visualize-the-training-process-in-keras/\">https://www.machinecurve.com/index.php/2019/10/08/how-to-visualize-the-training-process-in-keras/</a></p> "
   ]
  },
  {
   "cell_type": "code",
   "execution_count": null,
   "id": "9fdf84c5",
   "metadata": {},
   "outputs": [],
   "source": []
  },
  {
   "cell_type": "markdown",
   "id": "661c22ca",
   "metadata": {},
   "source": [
    "<h2 style=\"text-align: left; color:#20a08d; font-size: 25px\"><span>📈<strong>6. Visualisation des courbes d'apprentissage</strong></span></h2>"
   ]
  },
  {
   "cell_type": "markdown",
   "id": "0fca5853",
   "metadata": {},
   "source": [
    "Maintenant que l'entrainement est terminé, il est important de voir comment s'est passé l'apprentissage. Il est possible de visualiser la dynamique de l'entrainement en visualisant les courbes d'apprentissage."
   ]
  },
  {
   "cell_type": "code",
   "execution_count": null,
   "id": "0284710f",
   "metadata": {},
   "outputs": [],
   "source": [
    "def plot_results(training_history):\n",
    "    \n",
    "        \n",
    "    '''\n",
    "    Fonction permettant d'afficher les courbes d'apprentissage du modèle sur les données d'entrainement\n",
    "\n",
    "            Parameters:\n",
    "                    training_history (History object): Un objet d'histoire. Son attribut History.history est \n",
    "                                                       un enregistrement des valeurs de perte d'entraînement et \n",
    "                                                       des valeurs de métriques à des épochs successives, ainsi\n",
    "                                                       que des valeurs de perte de validation et des valeurs de \n",
    "                                                       métriques de validation \n",
    "                    \n",
    "\n",
    "            Returns:\n",
    "                    Rien\n",
    "    '''\n",
    "    \n",
    "    plt.plot(training_history.history['acc'])\n",
    "    plt.plot(training_history.history['val_acc'])\n",
    "    plt.title('model accuracy')\n",
    "    plt.ylabel('accuracy')\n",
    "    plt.xlabel('epoch')\n",
    "    plt.legend(['train', 'val'], loc='upper left')\n",
    "    plt.show()\n",
    "\n",
    "    plt.plot(training_history.history['loss'])\n",
    "    plt.plot(training_history.history['val_loss'])\n",
    "    plt.title('Model loss')\n",
    "    plt.ylabel('Loss')\n",
    "    plt.xlabel('Epoch')\n",
    "    plt.legend(['train', 'val'], loc = 'upper left')\n",
    "    plt.show()"
   ]
  },
  {
   "cell_type": "markdown",
   "id": "f126ec26",
   "metadata": {},
   "source": [
    "<p style=\"text-align: left; font-size: 16px; color:#131fcf\"><span>🖥️  Appelez la fonction plot_results avec comme argument l'historique de l'entrainement pour afficher les courbes d'apprentissage </span></p>"
   ]
  },
  {
   "cell_type": "code",
   "execution_count": null,
   "id": "8f605d23",
   "metadata": {},
   "outputs": [],
   "source": []
  },
  {
   "cell_type": "markdown",
   "id": "fe581272",
   "metadata": {},
   "source": [
    "<h2 style=\"text-align: left; color:#20a08d; font-size: 25px\"><span>👨🏽‍🏫 <strong>7. Evaluation du modèle</strong></span></h2>"
   ]
  },
  {
   "cell_type": "markdown",
   "id": "c1fd7886",
   "metadata": {},
   "source": [
    "<h3 style=\"text-align: left; color:#20a08d; font-size: 20px\"><span>👨🏽‍🏫 <strong>7.1 Evaluation empirique sur le jeu de données de test </strong></span></h3>"
   ]
  },
  {
   "cell_type": "markdown",
   "id": "0f005c51",
   "metadata": {},
   "source": [
    "Nous avons entrainé notre réseau de neurones sur le jeu de données et nous pouvons évaluer les performances du réseau sur le jeu de données de test\n",
    "\n",
    "Vous pouvez évaluer votre modèle  à l'aide de la fonction **evaluate()**."
   ]
  },
  {
   "cell_type": "markdown",
   "id": "811fcbeb",
   "metadata": {},
   "source": [
    "<p style=\"text-align: left; font-size: 16px; color:#131fcf\"><span>🖥️  Ecrivez le code permettant d'évaluer les performances du modèle sur les données de test</span></p>"
   ]
  },
  {
   "cell_type": "markdown",
   "id": "4813ed69",
   "metadata": {},
   "source": [
    "<p style=\"text-align: left; font-size: 16px; color:#ec8f1a\"><span>📚  \n",
    "How to evaluate a keras model? : </span> <a href=\"https://www.projectpro.io/recipes/evaluate-keras-model\">https://www.projectpro.io/recipes/evaluate-keras-model</a></p> "
   ]
  },
  {
   "cell_type": "code",
   "execution_count": null,
   "id": "90c4efcc",
   "metadata": {},
   "outputs": [],
   "source": []
  },
  {
   "cell_type": "markdown",
   "id": "4ff7c18e",
   "metadata": {},
   "source": [
    "<p style=\"text-align: left; font-size: 16px; color:#7a0f43\"><span>❓ Que sont les deux valeurs renvoyées par l'évaluation du modèle ?</span></p>"
   ]
  },
  {
   "cell_type": "markdown",
   "id": "76e3ed14",
   "metadata": {},
   "source": []
  },
  {
   "cell_type": "markdown",
   "id": "2808e30c",
   "metadata": {},
   "source": [
    "<h3 style=\"text-align: left; color:#20a08d; font-size: 20px\"><span>👨🏽‍🏫 <strong>7.2 Calcul de la matrice de confusion </strong></span></h3>"
   ]
  },
  {
   "cell_type": "code",
   "execution_count": null,
   "id": "14de58a9",
   "metadata": {},
   "outputs": [],
   "source": [
    "EMOTION_DICT = {0:\"neutre\", 1:\"joie\", 2:\"tristesse\", 3:\"colere\"}\n",
    "list(EMOTION_DICT.values())"
   ]
  },
  {
   "cell_type": "markdown",
   "id": "920e779d",
   "metadata": {},
   "source": [
    "Allons un peu plus dans le détail de la performance du modèle sur le jeu de données de test. Regardons sur quelle classe le modèle se trompe et avec quelles classes la confusion est la plus grande. Cela peut se faire via une matrice de confusion"
   ]
  },
  {
   "cell_type": "markdown",
   "id": "a57ec321",
   "metadata": {},
   "source": [
    "<p style=\"text-align: left; font-size: 16px; color:#131fcf\"><span>🖥️  Ecrivez le code dans la fonction  <strong>compute_confusion_matrix</strong> permettant de calculer et d'afficher la matrice de confusion puis appelez cette fonction sur les données de test </span></p>"
   ]
  },
  {
   "cell_type": "markdown",
   "id": "830008b4",
   "metadata": {},
   "source": [
    "<p style=\"text-align: left; font-size: 16px; color:#ec8f1a\"><span>📚  \n",
    "Generate classification report and confusion matrix in Python : </span> <a href=\"https://www.projectpro.io/recipes/generate-classification-report-and-confusion-matrix-in-python\">https://www.projectpro.io/recipes/generate-classification-report-and-confusion-matrix-in-python</a></p> "
   ]
  },
  {
   "cell_type": "markdown",
   "id": "3fa49e38",
   "metadata": {},
   "source": [
    "<p style=\"text-align: left; font-size: 16px; color:#ec8f1a\"><span>📚  \n",
    "sklearn.metrics.ConfusionMatrixDisplay : </span> <a href=\"https://scikit-learn.org/stable/modules/generated/sklearn.metrics.ConfusionMatrixDisplay.html\">https://scikit-learn.org/stable/modules/generated/sklearn.metrics.ConfusionMatrixDisplay.html</a></p> "
   ]
  },
  {
   "cell_type": "code",
   "execution_count": null,
   "id": "f5cd815c",
   "metadata": {},
   "outputs": [],
   "source": [
    "from sklearn.metrics import confusion_matrix, ConfusionMatrixDisplay\n",
    "\n",
    "def compute_confusion_matrix(model, X_test, y_test):\n",
    "    \n",
    "    '''\n",
    "    Fonction pour calculer et afficher la matrice de confusion\n",
    "\n",
    "            Parameters:\n",
    "                    model (Keras Model): Modèle Keras entrainé sur le jeu d'entrainé \n",
    "\n",
    "            Returns:\n",
    "                    Rien : affiche la matrice de confusion\n",
    "                    \n",
    "\n",
    "    '''\n",
    "        "
   ]
  },
  {
   "cell_type": "code",
   "execution_count": null,
   "id": "7c4d9133",
   "metadata": {},
   "outputs": [],
   "source": []
  },
  {
   "cell_type": "markdown",
   "id": "6bbf673d",
   "metadata": {},
   "source": [
    "<p style=\"text-align: left; font-size: 16px; color:#7a0f43\"><span>❓ Pour chaque classe d'émotion, avec quelle émotion la confusion du modèle est la plus grande (en d'autres termes, quelle émotion est la plus représentée dans les erreurs de prédiction pour chaque émotion ?</span></p>"
   ]
  },
  {
   "cell_type": "code",
   "execution_count": null,
   "id": "daf7232d",
   "metadata": {},
   "outputs": [],
   "source": []
  },
  {
   "cell_type": "markdown",
   "id": "7600b549",
   "metadata": {},
   "source": [
    "<h2 style=\"text-align: left; color:#20a08d; font-size: 25px\"><span>\n",
    "📼 <strong>8. Sauvegarde du modèle entrainé</strong></span></h2>"
   ]
  },
  {
   "cell_type": "markdown",
   "id": "1eb758c6",
   "metadata": {},
   "source": [
    "Nous allons ici sauvegarder sur notre disque le modèle que nous avons entrainé en vue d'une utilisation ultérieure.\n",
    "\n",
    "Pour ce faire, nous utiliserons la fonction save de keras qui permet d'enregistrer des modèles."
   ]
  },
  {
   "cell_type": "code",
   "execution_count": null,
   "id": "35759280",
   "metadata": {},
   "outputs": [],
   "source": [
    "model.save('./model.h5')"
   ]
  },
  {
   "cell_type": "code",
   "execution_count": null,
   "id": "fac8e724",
   "metadata": {},
   "outputs": [],
   "source": []
  }
 ],
 "metadata": {
  "kernelspec": {
   "display_name": "Python 3 (ipykernel)",
   "language": "python",
   "name": "python3"
  },
  "language_info": {
   "codemirror_mode": {
    "name": "ipython",
    "version": 3
   },
   "file_extension": ".py",
   "mimetype": "text/x-python",
   "name": "python",
   "nbconvert_exporter": "python",
   "pygments_lexer": "ipython3",
   "version": "3.7.2"
  }
 },
 "nbformat": 4,
 "nbformat_minor": 5
}
