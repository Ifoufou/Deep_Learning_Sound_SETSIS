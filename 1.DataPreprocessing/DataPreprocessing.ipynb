{
 "cells": [
  {
   "cell_type": "markdown",
   "id": "ec615231",
   "metadata": {},
   "source": [
    "<img src=\"./assets/uca.png\" alt=\"Tech Logo\" align=\"center\" height=\"800\" width=\"800\"/>"
   ]
  },
  {
   "cell_type": "markdown",
   "id": "d50c5313",
   "metadata": {},
   "source": [
    "<h1 align=\"left\" style=\"color:#000051;font-size: 30px\">TP : Classifiez des émotions vocales avec du deep learning</h1>"
   ]
  },
  {
   "cell_type": "markdown",
   "id": "e3a15b35",
   "metadata": {},
   "source": [
    "Pour ce TP, vous implémenterez un classifieur à base de réseau de neurones sur des données combinant les jeux de données RAVDESS et TESS avec la librairie keras. \n",
    "Repartez de ce notebook Jupyter qui passe en revue chaque partie du TP pour présenter des preuves et une analyse de vos résultats"
   ]
  },
  {
   "cell_type": "markdown",
   "id": "206adde7",
   "metadata": {},
   "source": [
    "<h1 align=\"left\" style=\"color:#000051;font-size: 25px\">Partie 1 : Pré-traitement des données</h1>"
   ]
  },
  {
   "cell_type": "markdown",
   "id": "c2cbfd6c",
   "metadata": {},
   "source": [
    "Dans cette partie nous nous attacherons principalement à pré-traiter les données audio du jeu de données, c'est-à-dire préparer les données en vue de les utiliser comme entrées du modèle de deep learning que nous construirons par la suite"
   ]
  },
  {
   "cell_type": "markdown",
   "id": "26783561",
   "metadata": {},
   "source": [
    "<h2 style=\"text-align: left; color:#20a08d; font-size: 25px\"><span>💾 <strong>A propos des jeux de données </strong></span></h2>"
   ]
  },
  {
   "cell_type": "markdown",
   "id": "f2ffd4da",
   "metadata": {},
   "source": [
    "Pour ce TP, nous utiliserons 2 jeux de données\n",
    "\n",
    "- **RAVDESS : Ryerson Audio-Visual Database of Emotional Speech and Song**\n",
    "https://zenodo.org/record/1188976#.X4sE0tDXKUl\n",
    "  - RAVDESS a été enregistrée avec 24 acteurs professionnels (12 femmes, 12 hommes), prononçant deux phrases lexicalement identiques avec un accent nord-américain neutre. Chaque phrase est prononcée avec deux niveaux d'intensité émotionnelle (normal, fort).\n",
    "  - **1440 fichiers** = 24 acteurs x 60 fichiers audio par acteur\n",
    "  - **8 émotions** (neutre, calme, joie, tristesse, colère, peur, dégout, surprise).\n",
    "\n",
    "\n",
    "\n",
    "- **TESS : Toronto Emotional Speech Set**\n",
    "https://tspace.library.utoronto.ca/handle/1807/24487\n",
    "  - Ces données ont été enregistrées par le Northwestern University Auditory. Un ensemble de 200 mots cibles ont été prononcés dans la phrase \"Dites le mot _____\" par deux actrices (âgées de 26 et 64 ans) et des enregistrements ont été réalisés lorsque ces phrases ont été prononcées avec chacune des sept émotions décrites ci-dessous.\n",
    "Les deux actrices ont été recrutées dans la région de Toronto. Les deux actrices parlent l'anglais comme première langue, ont fait des études universitaires et ont une formation musicale.\n",
    "  - **2800 fichiers** = 2 acteurs x 200 phrases x 7 émotions\n",
    "  - **7 émotions** (neutre, joie, tristesse, colère, peur, dégoût, surprise)('calme' ne fait pas partie de cette BD) "
   ]
  },
  {
   "cell_type": "markdown",
   "id": "7d28a911",
   "metadata": {},
   "source": [
    "Pour ce TP, pour des considérations de volume de données, nous n'avons retenu que 4 des émotions:\n",
    "- **neutre**\n",
    "- **joie**\n",
    "- **tristesse**\n",
    "- **colère**"
   ]
  },
  {
   "cell_type": "markdown",
   "id": "527d7c71",
   "metadata": {},
   "source": [
    "<h2 style=\"text-align: left; color:#20a08d; font-size: 25px\"><span>📥 <strong>1. Import des librairies </strong></span></h2>"
   ]
  },
  {
   "cell_type": "markdown",
   "id": "68ff0256",
   "metadata": {},
   "source": [
    "Si vous avez besoin d'installer des libraires Python pour ce TP, décommentez et exécutez la cellule ci-dessous"
   ]
  },
  {
   "cell_type": "code",
   "execution_count": null,
   "id": "eb7d9803",
   "metadata": {},
   "outputs": [],
   "source": [
    "#!pip3 install numpy\n",
    "#!pip3 install pydub\n",
    "#!pip3 install librosa\n",
    "#!pip3 install noisereduce\n",
    "#!pip3 install matplotlib\n",
    "#!pip3 install IPython\n",
    "#pip3 install scipy"
   ]
  },
  {
   "cell_type": "code",
   "execution_count": null,
   "id": "5ada599b",
   "metadata": {},
   "outputs": [],
   "source": [
    "import os\n",
    "import numpy as np\n",
    "import random\n",
    "\n",
    "from pydub import AudioSegment, effects\n",
    "import librosa\n",
    "import soundfile as sf\n",
    "from scipy.io import wavfile\n",
    "import noisereduce as nr\n",
    "\n",
    "import matplotlib.pyplot as plt\n",
    "from librosa import display   \n",
    "import IPython.display as ipd "
   ]
  },
  {
   "cell_type": "markdown",
   "id": "ac285c10",
   "metadata": {},
   "source": [
    "<h2 style=\"text-align: left; color:#20a08d; font-size: 25px\"><span>🔎 <strong>2. Exploration du jeu de données </strong></span></h2>"
   ]
  },
  {
   "cell_type": "markdown",
   "id": "c4cf63a1",
   "metadata": {},
   "source": [
    "Avant de commencer à prétraiter les données, faisons-nous une idée de ce à quoi ressemble les données"
   ]
  },
  {
   "cell_type": "code",
   "execution_count": null,
   "id": "2501f209",
   "metadata": {},
   "outputs": [],
   "source": [
    "# Dataset folders\n",
    "TESS_DATASET_FOLDER = \"./dataset/tess\"\n",
    "RAVDESS_DATASET_FOLDER = \"./dataset/ravdess\"\n",
    "\n",
    "# Example files\n",
    "TESS_FILE_EXAMPLE = \"./dataset/tess/YAF_goose_sad.wav\"\n",
    "RAVDESS_FILE_EXAMPLE = \"./dataset/ravdess/03-01-01-01-01-01-02.wav\""
   ]
  },
  {
   "cell_type": "markdown",
   "id": "90b6c44c",
   "metadata": {},
   "source": [
    "Nous pouvons utiliser ici IPython pour écouter le contenu audio des fichiers"
   ]
  },
  {
   "cell_type": "code",
   "execution_count": null,
   "id": "5161fd5d",
   "metadata": {},
   "outputs": [],
   "source": [
    "# Ecoute de deux fichiers examples\n",
    "rawsound_tess = AudioSegment.from_file(TESS_FILE_EXAMPLE)\n",
    "rawsound_ravdess = AudioSegment.from_file(RAVDESS_FILE_EXAMPLE)\n",
    "\n",
    "ipd.display(rawsound_tess)\n",
    "ipd.display(rawsound_ravdess)"
   ]
  },
  {
   "cell_type": "code",
   "execution_count": null,
   "id": "419a1312",
   "metadata": {},
   "outputs": [],
   "source": [
    "def display_waveform(folder):\n",
    "    \n",
    "    '''\n",
    "    Fonction pour afficher les formes d'ondes (waveform) de 5 fichiers audio aléatoirement choisis dans un répertoire\n",
    "\n",
    "            Parameters:\n",
    "                    folder (str): Chaine de caractère représentant le chemin d'accès au répertoire contenant les fichiers \n",
    "\n",
    "            Returns:\n",
    "                    Rien : affiche les formes d'ondes\n",
    "                    \n",
    "\n",
    "    '''\n",
    "    # Affichage des 5 fichiers audio aléatoirement choisis dans le jeu de données TESS\n",
    "\n",
    "    # Récupération de la liste des fichiers\n",
    "    tess_files_list = os.listdir(folder)\n",
    "    tess_files_list = [os.path.join(folder, file) for file in tess_files_list]\n",
    "\n",
    "    # Affichage\n",
    "    plt.figure(figsize=(18, 3))\n",
    "    for i in range(5):\n",
    "        random_file = random.choice(tess_files_list)\n",
    "        rawsound = AudioSegment.from_file(random_file)\n",
    "        x, sr = librosa.load(random_file, sr = None)\n",
    "\n",
    "        plt.subplot(1, 5, i+1)\n",
    "        #plt.figure(figsize=(12,1))\n",
    "        librosa.display.waveplot(x, sr)\n",
    "        plt.title(os.path.basename(random_file))\n",
    "\n",
    "    plt.show()"
   ]
  },
  {
   "cell_type": "code",
   "execution_count": null,
   "id": "9523ee20",
   "metadata": {},
   "outputs": [],
   "source": [
    "display_waveform(folder=TESS_DATASET_FOLDER)\n",
    "display_waveform(folder=RAVDESS_DATASET_FOLDER)"
   ]
  },
  {
   "cell_type": "markdown",
   "id": "8b956aaa",
   "metadata": {},
   "source": [
    "La forme d'onde représente la valeur de chaque échantillon audio en fonction du temps. Il s'agit juste d'une courbe représentant chaque échantillon en fonction du temps"
   ]
  },
  {
   "cell_type": "markdown",
   "id": "1a2290b8",
   "metadata": {},
   "source": [
    "<img src=\"./assets/waveform.webp\" alt=\"Tech Logo\" align=\"center\" height=\"1280\" width=\"960\"/>"
   ]
  },
  {
   "cell_type": "markdown",
   "id": "08df0a7e",
   "metadata": {},
   "source": [
    "<h2 style=\"text-align: left; color:#20a08d; font-size: 25px\"><span>\n",
    "🗃️ <strong>3. Pré-traitement du jeu de données</strong></span></h2>"
   ]
  },
  {
   "cell_type": "markdown",
   "id": "448dc827",
   "metadata": {},
   "source": [
    "Le schéma ci-dessous présente la chaine complète de pré-traitement à réaliser pour pré-traiter et extraire des caractéristiques de notre jeu de données.\n",
    "\n",
    "Nous nous interessons ici dans un premier temps à la partie pré-traitement"
   ]
  },
  {
   "cell_type": "markdown",
   "id": "e3d791d5",
   "metadata": {},
   "source": [
    "<img src=\"./assets/preprocess.jpg\" alt=\"Tech Logo\" align=\"center\" height=\"1280\" width=\"960\"/>"
   ]
  },
  {
   "cell_type": "markdown",
   "id": "58dea3f0",
   "metadata": {},
   "source": [
    "Le pré-traitement des audios nécessite 3 types de traitements:\n",
    "1. **Extraction de la classe d'appartenance**\n",
    "\n",
    "     * RAVDESS : Dans le jeu de données RAVDESS, le nom du fichier contient un nombre qui représente l'émotion exprimée dans le fichier audio. Un fichier RAVDESS consiste en un identifiant numérique en 7 parties (par exemple, 03-01-06-01-02-01-12.wav). Les deux premières parties étant fixes, le fichier peut être représenté comme suit : 03-01-X-X-X-X-X.wav. Les émotions sont indiquées dans la 3ème partie (Le 1er 'X') \n",
    "     * TESS : le nom de fichier contient une représentation directe d'une émotion. Les noms de fichier TESS sont composés de 3 parties, l'émotion étant indiquée dans la 3ème partie. Par exemple, dans le fichier \"YAF_youth_happy.wav\",  \"happy\".\n",
    "\n",
    "\n",
    "2. **Fréquence d'échantillonnage** : nombre d'échantillons audio par seconde. La base de données RAVDESS a été enregistrée en 48 kHz et la base de données TESS a été enregistrée en 22,5 kHz.\n",
    "\n",
    "\n",
    "3. **La séquence de pré-traitement** d'un fichier audio contient les traitements suivants :\n",
    "\n",
    "\n",
    "* Objet 'AudioSegment' : L'audio est chargé dans un objet 'AudioSegment' par la bibliothèque pydub\n",
    "* Normalisation : Chaque objet 'AudioSegment' est normalisé à + 5,0 dBFS.\n",
    "\n",
    "* Conversion en tableau Numpy : La transformation de l'objet AudioSegment en un tableau d'échantillons est cruciale pour le reste du prétraitement.\n",
    "* Suppression des silences : Les zones de silences, souvent au début et à la fin de l'extrait sonore, sont supprimées pour se débarrasser des données inutiles.\n",
    "* Padding : Afin d'avoir des audios de la même taille, il est nécessaire de faire du padding sur chaque fichier audio afin qu'ils aient la même longueur. Ceci est crucial pour utiliser les données dans un modèle de deep learning\n",
    "* Réduction de bruit : la réduction du bruit permet de supprimer d'éventuelles bruits, c'est-à-dire des données qui ne sont pas de la parole."
   ]
  },
  {
   "cell_type": "markdown",
   "id": "eb36688f",
   "metadata": {},
   "source": [
    "<h3 style=\"text-align: left; color:#20a08d; font-size: 20px\"><span>🗃️ <strong>3.1 Pré-traitement unitaire </strong></span></h3>"
   ]
  },
  {
   "cell_type": "markdown",
   "id": "3bfb963f",
   "metadata": {},
   "source": [
    "Dans cette partie, nous développons pas à pas chacun des pré-traitements necessaires. Chaque pré-traitement sera codé dans une fonction et testé sur un fichier exemple.\n",
    "Afin de s'assurer que les traitements sont bien réalisés, il faudra visualiser et écouter le fichier résultant du pré-traitement"
   ]
  },
  {
   "cell_type": "code",
   "execution_count": null,
   "id": "b3b308b6",
   "metadata": {},
   "outputs": [],
   "source": [
    "# Chemin d'accès au fichier exemple\n",
    "RAVDESS_FILE_EXAMPLE = \"./dataset/ravdess/03-01-01-01-01-01-02.wav\""
   ]
  },
  {
   "cell_type": "markdown",
   "id": "4c778840",
   "metadata": {},
   "source": [
    "<h4 style=\"text-align: left; color:#20a08d; font-size: 15px\"><span>🗃️ <strong>3.1.0 Visualisation et écoute du fichier exemple</strong></span></h4>"
   ]
  },
  {
   "cell_type": "markdown",
   "id": "f75bd499",
   "metadata": {},
   "source": [
    "La fonction ci-dessous permet d'afficher la forme d'onde et la barre d'écoute d'un fichier audio"
   ]
  },
  {
   "cell_type": "code",
   "execution_count": null,
   "id": "b24454a4",
   "metadata": {},
   "outputs": [],
   "source": [
    "def visualize_waveform(audio_array, sampling_rate, display_audio=True):\n",
    "    \n",
    "    '''\n",
    "    Fonction pour afficher la forme d'onde (waveform) d'un flux audio\n",
    "\n",
    "            Parameters:\n",
    "                    audio_array (Numpy array): Matrice de nombres de flottants représentant les échantillons audio du fichier audio\n",
    "                    sampling_rate (int): Valeur entière représentant la fréquence d'échantillonnage du fichier audio\n",
    "                    display_audio(bool) : booléen indiquant si la barre d'écoute du fichier audio devait être affichée ou non\n",
    "\n",
    "\n",
    "            Returns:\n",
    "                    Rien : affiche la forme d'ondes et/ou la barre d'écoute\n",
    "                    \n",
    "\n",
    "    '''\n",
    "\n",
    "    plt.figure(figsize=(12,1))\n",
    "    librosa.display.waveplot(audio_array, sampling_rate)\n",
    "    plt.title(\"Audio waveform\")\n",
    "    \n",
    "    if display_audio:\n",
    "        max_value = audio_array.max()\n",
    "        # Les fichiers wav avec des échantillons en format float32 doivent être entre +1 et -1\n",
    "        # Si ce n'est pas le cas, il faut normaliser !\n",
    "        if max_value > 1:\n",
    "            audio_array = audio_array/max_value\n",
    "        \n",
    "        # Enregistrement d'un fichier temporaire    \n",
    "        wavfile.write(filename=\"./tmp.wav\", rate=sampling_rate, data=audio_array)\n",
    "        \n",
    "        # Affichage de l'audio pour playback        \n",
    "        rawsound = AudioSegment.from_wav(\"./tmp.wav\")\n",
    "        ipd.display(rawsound)\n"
   ]
  },
  {
   "cell_type": "markdown",
   "id": "ae181d47",
   "metadata": {},
   "source": [
    "Appliquons cette fonction pour visualiser la forme d'onde et ecouter le contenu du fichier exemple **RAVDESS_FILE_EXAMPLE**"
   ]
  },
  {
   "cell_type": "code",
   "execution_count": null,
   "id": "21c1d0fe",
   "metadata": {},
   "outputs": [],
   "source": [
    "audio_array, sampling_rate = librosa.load(RAVDESS_FILE_EXAMPLE, sr = None)\n",
    "visualize_waveform(audio_array=audio_array, sampling_rate=sampling_rate, display_audio=True)"
   ]
  },
  {
   "cell_type": "markdown",
   "id": "7f021b9c",
   "metadata": {},
   "source": [
    "<h4 style=\"text-align: left; color:#20a08d; font-size: 15px\"><span>🗃️ <strong>3.1.1 Instanciation de l'objet AudioSegment</strong></span></h4>"
   ]
  },
  {
   "cell_type": "markdown",
   "id": "e68e726c",
   "metadata": {},
   "source": [
    "<p style=\"text-align: left; font-size: 16px; color:#131fcf\"><span>🖥️  Ecrivez le code permettant d'instancier un objet AudioSegment à partir du fichier exemple <strong>RAVDESS_FILE_EXAMPLE</strong> </span></p>"
   ]
  },
  {
   "cell_type": "markdown",
   "id": "21a97634",
   "metadata": {},
   "source": [
    "<p style=\"text-align: left; font-size: 16px; color:#ec8f1a\"><span>📚  Working with wav files in Python using Pydub : </span><a href=\"https://www.geeksforgeeks.org/working-with-wav-files-in-python-using-pydub/\">https://www.geeksforgeeks.org/working-with-wav-files-in-python-using-pydub/</a></p> "
   ]
  },
  {
   "cell_type": "code",
   "execution_count": null,
   "id": "d104e535",
   "metadata": {},
   "outputs": [],
   "source": [
    "from pydub import AudioSegment"
   ]
  },
  {
   "cell_type": "code",
   "execution_count": null,
   "id": "e75761ad",
   "metadata": {},
   "outputs": [],
   "source": []
  },
  {
   "cell_type": "markdown",
   "id": "68b33d45",
   "metadata": {},
   "source": [
    "<h4 style=\"text-align: left; color:#20a08d; font-size: 15px\"><span>🗃️ <strong>3.1.2 Normalisation de volume et conversion en tableau numpy array</strong></span></h4>"
   ]
  },
  {
   "cell_type": "markdown",
   "id": "e8a13a68",
   "metadata": {},
   "source": [
    "<p style=\"text-align: left; font-size: 16px; color:#131fcf\"><span>🖥️  Ecrivez le code dans la fonction  <strong>normalize_audio</strong> permettant d'ajouter 5 dBFS à un contenu sonore, puis appelez cette fonction sur le fichier exemple <strong>RAVDESS_FILE_EXAMPLE</strong> </span></p>"
   ]
  },
  {
   "cell_type": "markdown",
   "id": "86495f94",
   "metadata": {},
   "source": [
    "<p style=\"text-align: left; font-size: 16px; color:#ec8f1a\"><span>📚  Introduction to\n",
    "PyDub : </span> <a href=\"https://s3.amazonaws.com/assets.datacamp.com/production/course_17718/slides/chapter3.pdf\">https://s3.amazonaws.com/assets.datacamp.com/production/course_17718/slides/chapter3.pdf</a></p> "
   ]
  },
  {
   "cell_type": "code",
   "execution_count": null,
   "id": "6c7ea541",
   "metadata": {},
   "outputs": [],
   "source": [
    "from pydub import effects\n",
    "\n",
    "def normalize_audio(audio_segment):\n",
    "    \n",
    "    '''\n",
    "    Fonction pour rajouter 5 dBFS au volume du fichier audio\n",
    "\n",
    "            Parameters:\n",
    "                    audio_segment (Objet AudioSegment de pydub): Objet AudioSegment représentant le fichier audio à normaliser\n",
    "\n",
    "            Returns:\n",
    "                    normalized_array (Numpy array) : Matrice de nombres représentant les échantillons du fichier audio après application du traitement\n",
    "                    \n",
    "\n",
    "    '''\n",
    "        \n",
    "\n",
    "    return normalized_array"
   ]
  },
  {
   "cell_type": "code",
   "execution_count": null,
   "id": "5cddc008",
   "metadata": {},
   "outputs": [],
   "source": []
  },
  {
   "cell_type": "markdown",
   "id": "dff6ced7",
   "metadata": {},
   "source": [
    "<p style=\"text-align: left; font-size: 16px; color:#131fcf\"><span>🖥️  Ecrivez le code permettant d'écouter  et de visualiser la forme d'onde du flux audio résultant </span></p>"
   ]
  },
  {
   "cell_type": "code",
   "execution_count": null,
   "id": "8da6eb1a",
   "metadata": {},
   "outputs": [],
   "source": []
  },
  {
   "cell_type": "markdown",
   "id": "ace1b504",
   "metadata": {},
   "source": [
    "<p style=\"text-align: left; font-size: 16px; color:#7a0f43\"><span>❓ En observant la forme d'onde obtenue et en la comparant à celle du fichier d'origine, quel effet a eu ce pré-traitement sur le flux audio du fichier  ?</span></p>"
   ]
  },
  {
   "cell_type": "code",
   "execution_count": null,
   "id": "0e1991fd",
   "metadata": {},
   "outputs": [],
   "source": []
  },
  {
   "cell_type": "markdown",
   "id": "620c944f",
   "metadata": {},
   "source": [
    "<h4 style=\"text-align: left; color:#20a08d; font-size: 15px\"><span>🗃️ <strong>3.1.3 Suppression des silences</strong></span></h4>"
   ]
  },
  {
   "cell_type": "markdown",
   "id": "469cbb29",
   "metadata": {},
   "source": [
    "<p style=\"text-align: left; font-size: 16px; color:#131fcf\"><span>🖥️  Ecrivez le code dans la fonction  <strong>remove_silence_from_audio</strong> permettant de supprimer les silences d'un contenu sonore, puis appelez cette fonction sur la matrice d'échantillon obtenue à l'étape précédente </span></p>"
   ]
  },
  {
   "cell_type": "markdown",
   "id": "03aa55c7",
   "metadata": {},
   "source": [
    "<p style=\"text-align: left; font-size: 16px; color:#ec8f1a\"><span>📚  librosa.effects.trim : </span> <a href=\"https://librosa.org/doc/main/generated/librosa.effects.trim.html\">https://librosa.org/doc/main/generated/librosa.effects.trim.html</a></p> "
   ]
  },
  {
   "cell_type": "code",
   "execution_count": null,
   "id": "fd69400e",
   "metadata": {},
   "outputs": [],
   "source": [
    "from librosa import effects\n",
    "\n",
    "def remove_silence_from_audio(audio_array):\n",
    "    \n",
    "    '''\n",
    "    Fonction permettant de supprimer les silences d'un fichier audio\n",
    "\n",
    "            Parameters:\n",
    "                    audio_array (Numpy array): Matrice de nombres représentant les échantillons du fichier audio sur lequel appliquer la suppression de silences\n",
    "\n",
    "            Returns:\n",
    "                    silenced_array (Numpy array) : Matrice de nombres représentant les échantillons du fichier audio après application du traitement\n",
    "                    \n",
    "\n",
    "    '''\n",
    "    \n",
    "    return silenced_array"
   ]
  },
  {
   "cell_type": "code",
   "execution_count": null,
   "id": "abfa394b",
   "metadata": {},
   "outputs": [],
   "source": []
  },
  {
   "cell_type": "markdown",
   "id": "dc49b8d2",
   "metadata": {},
   "source": [
    "<p style=\"text-align: left; font-size: 16px; color:#131fcf\"><span>🖥️  Ecrivez le code permettant d'écouter  et de visualiser la forme d'onde du flux audio résultant </span></p>"
   ]
  },
  {
   "cell_type": "code",
   "execution_count": null,
   "id": "657e0248",
   "metadata": {},
   "outputs": [],
   "source": []
  },
  {
   "cell_type": "markdown",
   "id": "73c7e910",
   "metadata": {},
   "source": [
    "<p style=\"text-align: left; font-size: 16px; color:#7a0f43\"><span>❓ En observant la forme d'onde obtenue et en la comparant à celle obtenue à l'étape précédente, quel effet a eu ce pré-traitement sur le flux audio ?</span></p>"
   ]
  },
  {
   "cell_type": "code",
   "execution_count": null,
   "id": "8126b21a",
   "metadata": {},
   "outputs": [],
   "source": []
  },
  {
   "cell_type": "markdown",
   "id": "8b70f8fd",
   "metadata": {},
   "source": [
    "<h4 style=\"text-align: left; color:#20a08d; font-size: 15px\"><span>🗃️ <strong>3.1.4 Egalisation des longueurs </strong></span></h4>"
   ]
  },
  {
   "cell_type": "markdown",
   "id": "dc9cff49",
   "metadata": {},
   "source": [
    "Ici, nous voulons uniformiser les données en entrée du modèle afin qu'elles aient toute la même longueur. Nous faisons arbitrairement le choix d'avoir des données en entrée du modèle correspondant à 2 secondes de fichier audio. Mais selon que le fichier audio appartienne au dataset TESS ou RAVDESS, 2 secondes ne correspondent pas au même nombre d'échantillons"
   ]
  },
  {
   "cell_type": "code",
   "execution_count": null,
   "id": "1fd28091",
   "metadata": {},
   "outputs": [],
   "source": [
    "MAX_SECONDS = 2\n",
    "SR_TESS = 22500\n",
    "SR_RAVDESS = 48000"
   ]
  },
  {
   "cell_type": "code",
   "execution_count": null,
   "id": "a0c02fa2",
   "metadata": {},
   "outputs": [],
   "source": [
    "MAX_SAMPLES_RAVDESS = MAX_SECONDS * SR_RAVDESS\n",
    "MAX_SAMPLES_TESS = MAX_SECONDS * SR_TESS"
   ]
  },
  {
   "cell_type": "code",
   "execution_count": null,
   "id": "2b815c64",
   "metadata": {},
   "outputs": [],
   "source": [
    "MAX_SAMPLES = np.max([MAX_SAMPLES_RAVDESS, MAX_SAMPLES_TESS])\n",
    "MAX_SAMPLES"
   ]
  },
  {
   "cell_type": "markdown",
   "id": "70dfc776",
   "metadata": {},
   "source": [
    "<p style=\"text-align: left; font-size: 16px; color:#131fcf\"><span>🖥️  Ecrivez le code dans la fonction  <strong>length_equalization_audio</strong> permettant de ramener chaque matrice d'échantillons audio à une longueur de MAX_SAMPLES (si les audios sont plus longues que 96000 échantillons, les couper pour les ramener à 96000, si les audio sont plus courtes que 96000 échantillons, rajouter des 0 pour les ramener à 96000 échantillons), puis appelez cette fonction sur la matrice d'échantillon obtenue à l'étape précédente </span></p>"
   ]
  },
  {
   "cell_type": "markdown",
   "id": "3e3dfb2e",
   "metadata": {},
   "source": [
    "<p style=\"text-align: left; font-size: 16px; color:#ec8f1a\"><span>📚  numpy.pad : </span> <a href=\"https://numpy.org/doc/stable/reference/generated/numpy.pad.html\">https://numpy.org/doc/stable/reference/generated/numpy.pad.html</a></p> "
   ]
  },
  {
   "cell_type": "markdown",
   "id": "e759b197",
   "metadata": {},
   "source": [
    "<p style=\"text-align: left; font-size: 16px; color:#ec8f1a\"><span>📚  numpy.pad() function in Python : </span> <a href=\"https://www.geeksforgeeks.org/numpy-pad-function-in-python/\">https://www.geeksforgeeks.org/numpy-pad-function-in-python/</a></p> "
   ]
  },
  {
   "cell_type": "code",
   "execution_count": null,
   "id": "433bda27",
   "metadata": {},
   "outputs": [],
   "source": [
    "from numpy import pad\n",
    "\n",
    "def length_equalization_audio(audio_array, max_length=MAX_SAMPLES):\n",
    "    \n",
    "    '''\n",
    "    Fonction permettant de normaliser la longueur des échantillons d'un fichier audio\n",
    "\n",
    "            Parameters:\n",
    "                    audio_array (Numpy array): Matrice de nombres représentant les échantillons du fichier audio sur lequel appliquer l'égalisation des longueurs\n",
    "                    max_length (int) : Nombre entier représentant la longueur en termes de nombre d'échantillons à avoir\n",
    "\n",
    "            Returns:\n",
    "                    padded_array (Numpy array) : Matrice de nombres représentant les échantillons du fichier audio de longueur max_length\n",
    "                    \n",
    "\n",
    "    '''\n",
    "        \n",
    "\n",
    "    return padded_array\n"
   ]
  },
  {
   "cell_type": "code",
   "execution_count": null,
   "id": "b03a1df3",
   "metadata": {},
   "outputs": [],
   "source": []
  },
  {
   "cell_type": "markdown",
   "id": "b7d1610f",
   "metadata": {},
   "source": [
    "<p style=\"text-align: left; font-size: 16px; color:#131fcf\"><span>🖥️  Ecrivez le code permettant d'écouter  et de visualiser la forme d'onde du flux audio résultant </span></p>"
   ]
  },
  {
   "cell_type": "code",
   "execution_count": null,
   "id": "1a63cfa4",
   "metadata": {},
   "outputs": [],
   "source": []
  },
  {
   "cell_type": "markdown",
   "id": "3c34235d",
   "metadata": {},
   "source": [
    "<p style=\"text-align: left; font-size: 16px; color:#7a0f43\"><span>❓ En observant la forme d'onde obtenue et en la comparant à celle obtenue à l'étape précédente, quel effet a eu ce pré-traitement sur le flux audio ?</span></p>"
   ]
  },
  {
   "cell_type": "code",
   "execution_count": null,
   "id": "b6613a04",
   "metadata": {},
   "outputs": [],
   "source": []
  },
  {
   "cell_type": "markdown",
   "id": "f05e9b37",
   "metadata": {},
   "source": [
    "<h4 style=\"text-align: left; color:#20a08d; font-size: 15px\"><span>🗃️ <strong>3.1.5 Suppression du bruit</strong></span></h4>"
   ]
  },
  {
   "cell_type": "markdown",
   "id": "cb01b5d0",
   "metadata": {},
   "source": [
    "<p style=\"text-align: left; font-size: 16px; color:#131fcf\"><span>🖥️  Ecrivez le code dans la fonction  <strong>noise_reduction_from_audio</strong> permettant de réduire le bruit dans chaque matrice d'échantillons audio, puis appelez cette fonction sur la matrice d'échantillon obtenue à l'étape précédente </span></p>"
   ]
  },
  {
   "cell_type": "markdown",
   "id": "1c5d4ae1",
   "metadata": {},
   "source": [
    "<p style=\"text-align: left; font-size: 16px; color:#ec8f1a\"><span>📚  noisereduce : </span> <a href=\"https://github.com/timsainb/noisereduce#simplest-usage\">https://github.com/timsainb/noisereduce#simplest-usage</a></p> "
   ]
  },
  {
   "cell_type": "code",
   "execution_count": null,
   "id": "ad4e331a",
   "metadata": {},
   "outputs": [],
   "source": [
    "import noisereduce as nr\n",
    "\n",
    "def noise_reduction_from_audio(audio_array, sampling_rate):\n",
    "    '''\n",
    "    Fonction permettant de supprimer le bruit d'un fichier audio\n",
    "\n",
    "            Parameters:\n",
    "                    audio_array (Numpy array): Matrice de nombres représentant les échantillons du fichier audio sur lequel appliquer la réduction de bruit\n",
    "                    sampling_rate (int) : Nombre entier représentant la fréquence d'échantillonnage du fichier audio\n",
    "\n",
    "            Returns:\n",
    "                    noise_reduced_array (Numpy array) : Matrice de nombres représentant les échantillons du fichier audio après réduction du bruit\n",
    "                    \n",
    "\n",
    "    '''\n",
    "        \n",
    "    return noise_reduced_array"
   ]
  },
  {
   "cell_type": "code",
   "execution_count": null,
   "id": "d1f5db1a",
   "metadata": {},
   "outputs": [],
   "source": []
  },
  {
   "cell_type": "markdown",
   "id": "5a950df3",
   "metadata": {},
   "source": [
    "<p style=\"text-align: left; font-size: 16px; color:#131fcf\"><span>🖥️  Ecrivez le code permettant d'écouter  et de visualiser la forme d'onde du flux audio résultant </span></p>"
   ]
  },
  {
   "cell_type": "code",
   "execution_count": null,
   "id": "ac527c82",
   "metadata": {},
   "outputs": [],
   "source": []
  },
  {
   "cell_type": "markdown",
   "id": "531ca29f",
   "metadata": {},
   "source": [
    "<h3 style=\"text-align: left; color:#20a08d; font-size: 20px\"><span>🗃️ <strong>3.2 Pré-traitement unifié </strong></span></h3>"
   ]
  },
  {
   "cell_type": "markdown",
   "id": "e5cb8f98",
   "metadata": {},
   "source": [
    "Nous allons maintenant créer une fonction de pré-traitement globale, qui rassemble l'ensemble des pré-traitements précedemment développés."
   ]
  },
  {
   "cell_type": "markdown",
   "id": "310bd14e",
   "metadata": {},
   "source": [
    "<p style=\"text-align: left; font-size: 16px; color:#131fcf\"><span>🖥️  Ecrivez le code dans la fonction  <strong>preprocess_audio</strong> permettant d'appliquer toutes les opérations de pré-traitement précédemment développées sur un fichier audio, puis appelez cette fonction sur le fichier audio exemple <strong>RAVDESS_FILE_EXAMPLE</strong></span></p>"
   ]
  },
  {
   "cell_type": "code",
   "execution_count": null,
   "id": "e67f186c",
   "metadata": {},
   "outputs": [],
   "source": [
    "def preprocess_audio(audio_filename, sampling_rate):\n",
    "    \n",
    "    '''\n",
    "    Fonction permettant d'appliquer toutes les opérations de pré-traitement sur un fichier audio\n",
    "\n",
    "            Parameters:\n",
    "                    audio_filename (str): Chaine de caractère correspondant au chemin d'accès au fichier audio\n",
    "                    sampling_rate (int) : Nombre entier représentant la fréquence d'échantillonnage du fichier audio\n",
    "\n",
    "            Returns:\n",
    "                    noise_reduced_array (Numpy array) : Matrice de nombres représentant les échantillons du fichier audio après application de l'ensemble des pré-traitement\n",
    "                    \n",
    "\n",
    "    '''\n",
    "    \n",
    "    \n",
    "    return noise_reduced_array"
   ]
  },
  {
   "cell_type": "code",
   "execution_count": null,
   "id": "621b5fa8",
   "metadata": {},
   "outputs": [],
   "source": []
  },
  {
   "cell_type": "markdown",
   "id": "7e685234",
   "metadata": {},
   "source": [
    "<p style=\"text-align: left; font-size: 16px; color:#131fcf\"><span>🖥️  Ecrivez le code permettant d'écouter  et de visualiser la forme d'onde du flux audio résultant de l'ensemble des pré-traitements</span></p>"
   ]
  },
  {
   "cell_type": "code",
   "execution_count": null,
   "id": "d67aa045",
   "metadata": {},
   "outputs": [],
   "source": []
  },
  {
   "cell_type": "markdown",
   "id": "6172f68b",
   "metadata": {},
   "source": [
    "<h2 style=\"text-align: left; color:#20a08d; font-size: 25px\"><span>\n",
    "⛏️ <strong>4. Extraction des caractéristiques</strong></span></h2>"
   ]
  },
  {
   "cell_type": "markdown",
   "id": "915f7bd7",
   "metadata": {},
   "source": [
    "La spécifité des données audio est qu'elles nécessitent souvent des descripteurs de niveau intermédiaires pour être utilisées dans les modèles de machine learning. Ces descripteurs s'appellent aussi des caractéristiques. Nous allons ici extraire ces caractéristiques des fichiers audio que nous avons pré-traités"
   ]
  },
  {
   "cell_type": "markdown",
   "id": "184043ca",
   "metadata": {},
   "source": [
    "<h3 style=\"text-align: left; color:#20a08d; font-size: 20px\"><span>⛏️ <strong>4.1 Extraction des caractéristiques unitaire </strong></span></h3>"
   ]
  },
  {
   "cell_type": "markdown",
   "id": "af6316e6",
   "metadata": {},
   "source": [
    "Dans cette partie, nous développons pas à pas chacune des extractions de caractéristiques. Chaque extraction de caractéristique sera codée dans une fonction et testé sur la matrice numpy \"preprocessed_array\" obtenu en sortie de la fonction \"preprocessed_audio\"."
   ]
  },
  {
   "cell_type": "markdown",
   "id": "b00429c7",
   "metadata": {},
   "source": [
    "Les caractéristiques à extraire via librosa sont les suivantes:\n",
    "\n",
    "- Energy - Root Mean Square (RMS)\n",
    "- Zero Crossed Rate (ZCR)\n",
    "- Mel-Frequency Cepstral Coefficients (MFCCs)\n"
   ]
  },
  {
   "cell_type": "markdown",
   "id": "2d4ac3b1",
   "metadata": {},
   "source": [
    "Une des spécificités de l'audio est qu'aucune structuelle modulaire naturelle n'existe au sein d'un flux audio. \n",
    "\n",
    "Par exemple, au sein d'un flux vidéo, il existe une structure modulaire naturelle qui est l'image. Une vidéo de plusieurs heures peut ainsi être décomposée en plusieurs images. Ainsi à l'entrée des modèles de machine learning, il est possible d'utiliser une image ou un lot d'images.\n",
    "\n",
    "Mais qu'en est-il de l'audio ? Dans le cas de l'audio, il revient au datascientist de séquencer un flux audio en plusieurs séquences en utilisant des techniques de **fenêtrage (windowing)**. "
   ]
  },
  {
   "cell_type": "markdown",
   "id": "56a162d7",
   "metadata": {},
   "source": [
    "<img src=\"./assets/windowing.gif\" alt=\"Tech Logo\" align=\"center\" height=\"1280\" width=\"960\"/>"
   ]
  },
  {
   "cell_type": "markdown",
   "id": "e28fca74",
   "metadata": {},
   "source": [
    "C'est à partir de ces séquences fenêtrées que seront extraites les caractéristiques évoquées ci-dessus.\n",
    "\n",
    "Fenêtrer revient donc à déplacer une fenêtre glissante d'une certaine largeur avec un pas de déplacement donné. La largeur de la fenêtre s'appelle **window_length** et le pas de déplacement s'appelle le **hop**."
   ]
  },
  {
   "cell_type": "markdown",
   "id": "c9dda214",
   "metadata": {},
   "source": [
    "<img src=\"./assets/windowing.png\" alt=\"Tech Logo\" align=\"center\" height=\"1280\" width=\"960\"/>"
   ]
  },
  {
   "cell_type": "markdown",
   "id": "f1d988e7",
   "metadata": {},
   "source": [
    "https://stackoverflow.com/questions/68214065/is-my-output-of-librosa-mfcc-correct-i-think-i-get-the-wrong-number-of-frames-w"
   ]
  },
  {
   "cell_type": "code",
   "execution_count": null,
   "id": "6bb07bfc",
   "metadata": {},
   "outputs": [],
   "source": [
    "FRAME_LENGTH = 2048\n",
    "HOP_LENGTH = 512"
   ]
  },
  {
   "cell_type": "markdown",
   "id": "59ef9c1b",
   "metadata": {},
   "source": [
    "<p style=\"text-align: left; font-size: 16px; color:#7a0f43\"><span>❓ Avec une taille de fenêtre de <strong>FRAME_LENGTH</strong> et un pas de déplacement de <strong>HOP_LENGTH</strong>, en combien de fenêtres seront découpées les fichiers ayant 96000 échantillons ?</span></p>"
   ]
  },
  {
   "cell_type": "markdown",
   "id": "dee3f970",
   "metadata": {},
   "source": []
  },
  {
   "cell_type": "markdown",
   "id": "81f511af",
   "metadata": {},
   "source": [
    "<h4 style=\"text-align: left; color:#20a08d; font-size: 15px\"><span>⛏️ <strong>4.1.1 Extraction de l'Energy Root Mean Square (RMS)</strong></span></h4>"
   ]
  },
  {
   "cell_type": "markdown",
   "id": "130cfd4d",
   "metadata": {},
   "source": [
    "<p style=\"text-align: left; font-size: 16px; color:#131fcf\"><span>🖥️  Ecrivez le code dans la fonction  <strong>get_energy_rms</strong> permettant d'extraire l'energy RMS d'une matrice d'échantillons, puis appelez cette fonction sur la matrice d'échantillons audio pré-traités <strong>preprocessed_array</strong>. Attention à l'utilisation de l'argument <strong>\"center\"</strong></span></p>"
   ]
  },
  {
   "cell_type": "markdown",
   "id": "d29a6eb8",
   "metadata": {},
   "source": [
    "<p style=\"text-align: left; font-size: 16px; color:#ec8f1a\"><span>📚  librosa.feature.rms : </span> <a href=\"https://librosa.org/doc/main/generated/librosa.feature.rms.html\">https://librosa.org/doc/main/generated/librosa.feature.rms.html</a></p> "
   ]
  },
  {
   "cell_type": "code",
   "execution_count": null,
   "id": "8b2d98d6",
   "metadata": {},
   "outputs": [],
   "source": [
    "from librosa.feature import rms\n",
    "\n",
    "def get_energy_rms(audio_array, frame_length, hop_length):\n",
    "    \n",
    "    '''\n",
    "    Fonction permettant d'extraire d'une matrice d'échantillons audio l'energy RMS d'un flux audio\n",
    "\n",
    "            Parameters:\n",
    "                    audio_array (Numpy array): Matrice de nombres représentant les échantillons audio du fichier audio\n",
    "                    frame_length (int): Valeur entière représentant la taille de fenêtre pour le fenêtrage\n",
    "                    hop_length(int) : Valeur entière représentant la taille du pas de déplacement pour le fenêtrage\n",
    "\n",
    "\n",
    "            Returns:\n",
    "                    feature_rms (Numpy array): Matrice de nombres représentant l'energy rms\n",
    "                    \n",
    "\n",
    "    '''\n",
    "        \n",
    "    return feature_rms"
   ]
  },
  {
   "cell_type": "markdown",
   "id": "af160f94",
   "metadata": {},
   "source": [
    "<p style=\"text-align: left; font-size: 16px; color:#131fcf\"><span>🖥️  Ecrivez le code permettant d'afficher les dimensions de la matrice de caractéristiques résultante</span></p>"
   ]
  },
  {
   "cell_type": "code",
   "execution_count": null,
   "id": "f3448587",
   "metadata": {},
   "outputs": [],
   "source": []
  },
  {
   "cell_type": "markdown",
   "id": "833b668b",
   "metadata": {},
   "source": [
    "<p style=\"text-align: left; font-size: 16px; color:#7a0f43\"><span>❓ A quoi correspondent ces dimensions ?</span></p>"
   ]
  },
  {
   "cell_type": "code",
   "execution_count": null,
   "id": "2ce00632",
   "metadata": {},
   "outputs": [],
   "source": []
  },
  {
   "cell_type": "markdown",
   "id": "c598e9e4",
   "metadata": {},
   "source": [
    "<h4 style=\"text-align: left; color:#20a08d; font-size: 15px\"><span>⛏️ <strong>4.1.2 Extraction du Zero Crossing Rate (ZCR)</strong></span></h4>"
   ]
  },
  {
   "cell_type": "markdown",
   "id": "a0664a92",
   "metadata": {},
   "source": [
    "<p style=\"text-align: left; font-size: 16px; color:#131fcf\"><span>🖥️  Ecrivez le code dans la fonction  <strong>get_zcr</strong> permettant d'extraire le zero crossing rate d'une matrice d'échantillons audio, puis appelez cette fonction sur la matrice d'échantillons audio pré-traités<strong>preprocessed_array</strong></span></p>"
   ]
  },
  {
   "cell_type": "markdown",
   "id": "a2e52f2e",
   "metadata": {},
   "source": [
    "<p style=\"text-align: left; font-size: 16px; color:#ec8f1a\"><span>📚  librosa.feature.zero_crossing_rate : </span> <a href=\"http://librosa.org/doc/main/generated/librosa.feature.zero_crossing_rate.html\">http://librosa.org/doc/main/generated/librosa.feature.zero_crossing_rate.html</a></p> "
   ]
  },
  {
   "cell_type": "code",
   "execution_count": null,
   "id": "9e43a8db",
   "metadata": {},
   "outputs": [],
   "source": [
    "from librosa.feature import zero_crossing_rate\n",
    "\n",
    "def get_zcr(audio_array, frame_length, hop_length):\n",
    "    \n",
    "    '''\n",
    "    Fonction permettant d'extraire d'une matrice d'échantillons audio le ZCR d'un flux audio\n",
    "\n",
    "            Parameters:\n",
    "                    audio_array (Numpy array): Matrice de nombres représentant les échantillons audio du fichier audio\n",
    "                    frame_length (int): Valeur entière représentant la taille de fenêtre pour le fenêtrage\n",
    "                    hop_length(int) : Valeur entière représentant la taille du pas de déplacement pour le fenêtrage\n",
    "\n",
    "\n",
    "            Returns:\n",
    "                    feature_zcr (Numpy array): Matrice de nombres représentant le ZCR\n",
    "                    \n",
    "\n",
    "    '''\n",
    "        \n",
    "    return feature_zcr"
   ]
  },
  {
   "cell_type": "markdown",
   "id": "a5d138a6",
   "metadata": {},
   "source": [
    "<p style=\"text-align: left; font-size: 16px; color:#131fcf\"><span>🖥️  Ecrivez le code permettant d'afficher les dimensions de la matrice de caractéristiques résultante</span></p>"
   ]
  },
  {
   "cell_type": "code",
   "execution_count": null,
   "id": "b6e28fcd",
   "metadata": {},
   "outputs": [],
   "source": []
  },
  {
   "cell_type": "markdown",
   "id": "27248650",
   "metadata": {},
   "source": [
    "<p style=\"text-align: left; font-size: 16px; color:#7a0f43\"><span>❓ A quoi correspondent ces dimensions ?</span></p>"
   ]
  },
  {
   "cell_type": "code",
   "execution_count": null,
   "id": "cffb1731",
   "metadata": {},
   "outputs": [],
   "source": []
  },
  {
   "cell_type": "markdown",
   "id": "18895150",
   "metadata": {},
   "source": [
    "<h4 style=\"text-align: left; color:#20a08d; font-size: 15px\"><span>⛏️ <strong>4.1.3 Extraction des coefficients MFCC</strong></span></h4>"
   ]
  },
  {
   "cell_type": "markdown",
   "id": "5affe1a9",
   "metadata": {},
   "source": [
    "<p style=\"text-align: left; font-size: 16px; color:#131fcf\"><span>🖥️  Ecrivez le code dans la fonction  <strong>get_mfcc</strong> permettant d'extraire les coefficients MFCC d'une matrice d'échantillons audio, puis appelez cette fonction sur la matrice d'échantillons audio pré-traités<strong>preprocessed_array</strong>. Utilisez 13 coefficients MFCC par fenêtre</span></p>"
   ]
  },
  {
   "cell_type": "markdown",
   "id": "35db4a68",
   "metadata": {},
   "source": [
    "<p style=\"text-align: left; font-size: 16px; color:#ec8f1a\"><span>📚  librosa.feature.mfcc : </span> <a href=\"https://librosa.org/doc/main/generated/librosa.feature.mfcc.html\">https://librosa.org/doc/main/generated/librosa.feature.mfcc.html</a></p> "
   ]
  },
  {
   "cell_type": "code",
   "execution_count": null,
   "id": "601f25ae",
   "metadata": {},
   "outputs": [],
   "source": [
    "from librosa.feature import mfcc\n",
    "\n",
    "def get_mfcc(audio_array, hop_length, sampling_rate):\n",
    "    \n",
    "    '''\n",
    "    Fonction permettant d'extraire d'une matrice d'échantillons audio les coefficients MFCC d'un flux audio\n",
    "\n",
    "            Parameters:\n",
    "                    audio_array (Numpy array): Matrice de nombres représentant les échantillons audio du fichier audio\n",
    "                    sampling_rate (int) : Nombre entier représentant la fréquence d'échantillonnage du fichier audio\n",
    "                    hop_length (int) : Valeur entière représentant la taille du pas de déplacement pour le fenêtrage\n",
    "\n",
    "\n",
    "            Returns:\n",
    "                    feature_mfcc (Numpy array): Matrice de nombres représentant les coefficients MFCC\n",
    "                    \n",
    "\n",
    "    '''\n",
    "        \n",
    "    return feature_mfcc"
   ]
  },
  {
   "cell_type": "markdown",
   "id": "b3000793",
   "metadata": {},
   "source": [
    "<p style=\"text-align: left; font-size: 16px; color:#131fcf\"><span>🖥️  Ecrivez le code permettant d'afficher les dimensions de la matrice de caractéristiques résultante</span></p>"
   ]
  },
  {
   "cell_type": "code",
   "execution_count": null,
   "id": "d9040bb2",
   "metadata": {},
   "outputs": [],
   "source": []
  },
  {
   "cell_type": "markdown",
   "id": "f2dd7b0b",
   "metadata": {},
   "source": [
    "<p style=\"text-align: left; font-size: 16px; color:#7a0f43\"><span>❓ A quoi correspondent ces dimensions ?</span></p>"
   ]
  },
  {
   "cell_type": "code",
   "execution_count": null,
   "id": "e365c92d",
   "metadata": {},
   "outputs": [],
   "source": []
  },
  {
   "cell_type": "markdown",
   "id": "1fe64f83",
   "metadata": {},
   "source": [
    "Utilisez le code ci-dessous pour afficher les coefficients MFCC"
   ]
  },
  {
   "cell_type": "code",
   "execution_count": null,
   "id": "e9e141d3",
   "metadata": {
    "scrolled": true
   },
   "outputs": [],
   "source": [
    "librosa.display.specshow(mfccs, sr=SR_RAVDESS, x_axis='time')"
   ]
  },
  {
   "cell_type": "markdown",
   "id": "7c516210",
   "metadata": {},
   "source": [
    "<h3 style=\"text-align: left; color:#20a08d; font-size: 20px\"><span>⛏️ <strong>4.2 Extraction des caractéristiques unifiée </strong></span></h3>"
   ]
  },
  {
   "cell_type": "markdown",
   "id": "578675e0",
   "metadata": {},
   "source": [
    "Ici, nous rassemblons l'ensemble des traitements d'extractions de caractéristiques en une seule fonction, puis nous concaténons l'ensemble des caractéristiques RMS, ZCR, MFCC en une seule matrice."
   ]
  },
  {
   "cell_type": "markdown",
   "id": "e6b673a8",
   "metadata": {},
   "source": [
    "<p style=\"text-align: left; font-size: 16px; color:#131fcf\"><span>🖥️  Ecrivez le code dans la fonction  <strong>extract_features_audio</strong> permettant d'extraire d'une matrice d'échantillons audio l'ensemble des caractéristiques et des concaténer en une seule, puis appelez cette fonction sur la matrice d'échantillons audio pré-traités <strong>preprocessed_array</strong>.</span></p>"
   ]
  },
  {
   "cell_type": "code",
   "execution_count": null,
   "id": "239e42bd",
   "metadata": {},
   "outputs": [],
   "source": [
    "def extract_features_audio(audio_array, sampling_rate, frame_length, hop_length):\n",
    "    \n",
    "    '''\n",
    "    Fonction permettant d'extraire d'une matrice d'échantillons audio l'ensemble des caractéristiques et des concaténer en une seule\n",
    "\n",
    "            Parameters:\n",
    "                    audio_array (Numpy array): Matrice de nombres représentant les échantillons audio du fichier audio\n",
    "                    sampling_rate (int) : Nombre entier représentant la fréquence d'échantillonnage du fichier audio\n",
    "                    frame_length (int): Valeur entière représentant la taille de fenêtre pour le fenêtrage\n",
    "                    hop_length (int) : Valeur entière représentant la taille du pas de déplacement pour le fenêtrage\n",
    "\n",
    "\n",
    "            Returns:\n",
    "                    features_all (Numpy array): Matrice de nombres représentant l'ensemble des caractéristiques concaténées\n",
    "                    \n",
    "\n",
    "    '''\n",
    "    \n",
    "    \n",
    "    return features_all"
   ]
  },
  {
   "cell_type": "code",
   "execution_count": null,
   "id": "951da3f5",
   "metadata": {},
   "outputs": [],
   "source": []
  },
  {
   "cell_type": "markdown",
   "id": "8e7ca3fc",
   "metadata": {},
   "source": [
    "<h2 style=\"text-align: left; color:#20a08d; font-size: 25px\"><span>\n",
    "🗄️ <strong>5. Application de la chaine complète de traitement des données: pré-traitement + extraction de caractéristiques</strong></span></h2>"
   ]
  },
  {
   "cell_type": "markdown",
   "id": "7bedf6b1",
   "metadata": {},
   "source": [
    "Ici, nous rassemblons en une seule fonction l'ensemble des traitements : pré-traitement et extraction des caractéristiques"
   ]
  },
  {
   "cell_type": "markdown",
   "id": "63397fd7",
   "metadata": {},
   "source": [
    "<h3 style=\"text-align: left; color:#20a08d; font-size: 20px\"><span>🗄️ <strong>5.1 Traitement unitaire </strong></span></h3>"
   ]
  },
  {
   "cell_type": "markdown",
   "id": "478c1192",
   "metadata": {},
   "source": [
    "<p style=\"text-align: left; font-size: 16px; color:#131fcf\"><span>🖥️  Ecrivez le code dans la fonction  <strong>process_data</strong> permettant de réaliser sur un fichier audio l'ensemble des traitéments de préparation des données (pré-traitement + extraction de caractéristiques), puis appelez cette fonction sur le fichier exemple <strong>RAVDESS_FILE_EXAMPLE</strong>.</span></p>"
   ]
  },
  {
   "cell_type": "code",
   "execution_count": null,
   "id": "fee0e64b",
   "metadata": {},
   "outputs": [],
   "source": [
    "def process_data(audio_filename, hop_length, frame_length, sampling_rate):\n",
    "    \n",
    "    '''\n",
    "    Fonction permettant de réaliser sur un fichier audio l'ensemble des traitéments de préparation des données : pré-traitement + extraction de caractéristiques\n",
    "\n",
    "            Parameters:\n",
    "                    audio_filename (str): Chaine de caractère correspondant au chemin d'accès au fichier audio\n",
    "                    sampling_rate (int) : Nombre entier représentant la fréquence d'échantillonnage du fichier audio\n",
    "                    frame_length (int): Valeur entière représentant la taille de fenêtre pour le fenêtrage\n",
    "                    hop_length (int) : Valeur entière représentant la taille du pas de déplacement pour le fenêtrage\n",
    "\n",
    "\n",
    "            Returns:\n",
    "                    preprocessed_array (Numpy array): Matrice de nombres représentant les échantillons audio après pré-traitement (normalisation, ...)\n",
    "                    features (Numpy array): Matrice de nombres représentant l'ensemble des caractéristiques concaténées\n",
    "\n",
    "\n",
    "    '''\n",
    "        \n",
    "    \n",
    "    return preprocessed_array, features"
   ]
  },
  {
   "cell_type": "code",
   "execution_count": null,
   "id": "923dedad",
   "metadata": {},
   "outputs": [],
   "source": []
  },
  {
   "cell_type": "markdown",
   "id": "223f082e",
   "metadata": {},
   "source": [
    "<h3 style=\"text-align: left; color:#20a08d; font-size: 20px\"><span>🗄️ <strong>5.2 Détermination de la classe d'appartenance </strong></span></h3>"
   ]
  },
  {
   "cell_type": "markdown",
   "id": "0175e89b",
   "metadata": {},
   "source": [
    "Le but ici est de développer une fonction permettante d'extraire la classe d'appartenance c'est-à-dire l'émotion exprimée dans un fichier audio à partir des données indiquées dans le nom de fichier.\n",
    "\n",
    "Par convention :\n",
    "- La classe **\"neutre\"** sera encodée par le nombre entier **0**\n",
    "- La classe **\"joie\"** sera encodée par le nombre entier **1**\n",
    "- La classe **\"tristesse\"** sera encodée par le nombre entier **2**\n",
    "- La classe **\"colere\"** sera encodée par le nombre entier **3**"
   ]
  },
  {
   "cell_type": "code",
   "execution_count": null,
   "id": "348e29ed",
   "metadata": {},
   "outputs": [],
   "source": [
    "EMOTION_DICT = {0:\"neutre\", 1:\"joie\", 2:\"tristesse\", 3:\"colere\"}"
   ]
  },
  {
   "cell_type": "markdown",
   "id": "d2319c77",
   "metadata": {},
   "source": [
    "<p style=\"text-align: left; font-size: 16px; color:#131fcf\"><span>🖥️  Ecrivez le code dans la fonction  <strong>get_ravdess_label</strong> permettant de déterminer la classe d'émotion exprimée dans un fichier audio RAVDESS à partir de son nom, puis appelez cette fonction sur les fichiers exemple <strong>RAVDESS_FILE_EXAMPLE_1</strong>, <strong>RAVDESS_FILE_EXAMPLE_2</strong>, <strong>RAVDESS_FILE_EXAMPLE_3</strong>, <strong>RAVDESS_FILE_EXAMPLE_4</strong>.</span></p>"
   ]
  },
  {
   "cell_type": "code",
   "execution_count": null,
   "id": "0155dac6",
   "metadata": {},
   "outputs": [],
   "source": [
    "def get_ravdess_label(audio_filename):\n",
    "    \n",
    "    '''\n",
    "    Fonction permettant de déterminer la classe d'émotion exprimée dans un fichier audio RAVDESS à partir de son nom\n",
    "\n",
    "            Parameters:\n",
    "                    audio_filename (str): Chaine de caractère correspondant au chemin d'accès au fichier audio\n",
    "\n",
    "            Returns:\n",
    "                    - (int): Nombre entier représentant la classe de l'émotion\n",
    "\n",
    "    '''\n",
    "    "
   ]
  },
  {
   "cell_type": "code",
   "execution_count": null,
   "id": "d9200ee2",
   "metadata": {},
   "outputs": [],
   "source": [
    "RAVDESS_FILE_EXAMPLE_1 = \"./dataset/ravdess/03-01-04-01-02-02-22.wav\"\n",
    "RAVDESS_FILE_EXAMPLE_2 = \"./dataset/ravdess/03-01-05-01-02-01-19.wav\"\n",
    "RAVDESS_FILE_EXAMPLE_3 = \"./dataset/ravdess/03-01-03-01-02-02-11.wav\"\n",
    "RAVDESS_FILE_EXAMPLE_4 = \"./dataset/ravdess/03-01-01-01-01-02-20.wav\"\n"
   ]
  },
  {
   "cell_type": "markdown",
   "id": "a828938e",
   "metadata": {},
   "source": [
    "<p style=\"text-align: left; font-size: 16px; color:#131fcf\"><span>🖥️  Ecrivez le code dans la fonction  <strong>get_tess_label</strong> permettant de déterminer la classe d'émotion exprimée dans un fichier audio TESS à partir de son nom, puis appelez cette fonction sur les fichiers exemple <strong>TESS_FILE_EXAMPLE_1</strong>, <strong>TESS_FILE_EXAMPLE_2</strong>, <strong>TESS_FILE_EXAMPLE_3</strong>, <strong>TESS_FILE_EXAMPLE_4</strong>.</span></p>"
   ]
  },
  {
   "cell_type": "code",
   "execution_count": null,
   "id": "fae3733e",
   "metadata": {},
   "outputs": [],
   "source": [
    "def get_tess_label(audio_filename):\n",
    "    \n",
    "    '''\n",
    "    Fonction permettant de déterminer la classe d'émotion exprimée dans un fichier audio TESS à partir de son nom\n",
    "\n",
    "            Parameters:\n",
    "                    audio_filename (str): Chaine de caractère correspondant au chemin d'accès au fichier audio\n",
    "\n",
    "            Returns:\n",
    "                    - (int): Nombre entier représentant la classe de l'émotion\n",
    "\n",
    "    '''\n",
    "    "
   ]
  },
  {
   "cell_type": "code",
   "execution_count": null,
   "id": "0b6f02b5",
   "metadata": {},
   "outputs": [],
   "source": [
    "TESS_FILE_EXAMPLE_1 = \"./dataset/tess/OAF_lose_sad.wav\"\n",
    "TESS_FILE_EXAMPLE_2 = \"./dataset/tess/YAF_mop_happy.wav\"\n",
    "TESS_FILE_EXAMPLE_3 = \"./dataset/tess/OAF_turn_neutral.wav\"\n",
    "TESS_FILE_EXAMPLE_4 = \"./dataset/tess/YAF_met_angry.wav\"\n"
   ]
  },
  {
   "cell_type": "markdown",
   "id": "276880bd",
   "metadata": {},
   "source": [
    "<h3 style=\"text-align: left; color:#20a08d; font-size: 20px\"><span>🗄️ <strong>5.3 Traitement de l'ensemble des fichiers audio </strong></span></h3>"
   ]
  },
  {
   "cell_type": "markdown",
   "id": "04807c51",
   "metadata": {},
   "source": [
    "Nous disposons désormais de tous les éléments permettant d'obtenir les données d'entrainement (caractéristiques) et les labels associés"
   ]
  },
  {
   "cell_type": "markdown",
   "id": "6f2fc5c9",
   "metadata": {},
   "source": [
    "Puisque nous utilisons de l'apprentissage supervisé, il nous faut créer un tableau de données (caractéristisques) et un tableau de labels"
   ]
  },
  {
   "cell_type": "markdown",
   "id": "bb88c4d4",
   "metadata": {},
   "source": [
    "<img src=\"./assets/processing.jpg\" alt=\"Tech Logo\" align=\"center\" height=\"800\" width=\"600\"/>"
   ]
  },
  {
   "cell_type": "code",
   "execution_count": null,
   "id": "039dab45",
   "metadata": {},
   "outputs": [],
   "source": [
    "DATASET_FOLDER = \"./dataset\"\n",
    "features_list = list()\n",
    "labels_list = list()"
   ]
  },
  {
   "cell_type": "markdown",
   "id": "e1bb60bf",
   "metadata": {},
   "source": [
    "<p style=\"text-align: left; font-size: 16px; color:#131fcf\"><span>🖥️  Ecrivez le code permettant de parcourir les fichiers audio RAVDESS et TESS, d'en déterminer la fréquence d'échantillonnage, de calculer la matrice de caractéristiques du fichier audio, d'extraire la classe d'appartenance du fichier audio, puis insérer la matrice de caractéristiques et la classe d'appartenance respectivement dans les listes <strong>features_list</strong> et <strong>labels_list</strong>. Convertissez enfin les listes <strong>features_list</strong> et <strong>labels_list</strong> en matrice numpy array <strong>features_array</strong> et <strong>labels_array</strong></span></p>"
   ]
  },
  {
   "cell_type": "markdown",
   "id": "b8ac2907",
   "metadata": {},
   "source": [
    "<p style=\"text-align: left; font-size: 16px; color:#ec8f1a\"><span>📚  \n",
    "Iterate over files in a directory in Python\n",
    " : </span> <a href=\"https://www.techiedelight.com/iterate-over-files-directory-python/\">https://www.techiedelight.com/iterate-over-files-directory-python/</a></p> "
   ]
  },
  {
   "cell_type": "code",
   "execution_count": null,
   "id": "b6be6742",
   "metadata": {},
   "outputs": [],
   "source": [
    "from librosa.core import get_samplerate\n"
   ]
  },
  {
   "cell_type": "code",
   "execution_count": null,
   "id": "9e8c7ca7",
   "metadata": {},
   "outputs": [],
   "source": [
    "print(features_array.shape)\n",
    "print(labels_array.shape)"
   ]
  },
  {
   "cell_type": "markdown",
   "id": "f2d40fb2",
   "metadata": {},
   "source": [
    "<h2 style=\"text-align: left; color:#20a08d; font-size: 25px\"><span>\n",
    "📼 <strong>6. Sauvegarde des données d'entrainement et des labels</strong></span></h2>"
   ]
  },
  {
   "cell_type": "markdown",
   "id": "44364ed6",
   "metadata": {},
   "source": [
    "Nous allons ici sauvegarder sur notre disque les données d'entrainement et les labels correspondant aux matrices que nous avons générées.\n",
    "\n",
    "Pour ce faire, nous utiliserons la librairie pickle qui permet d'enregistrer des données en gardant leur structure d'origine."
   ]
  },
  {
   "cell_type": "code",
   "execution_count": null,
   "id": "72087c6e",
   "metadata": {},
   "outputs": [],
   "source": [
    "import pickle\n",
    "\n",
    "with open('./features.array', 'wb') as features:\n",
    "    pickle.dump(features_array, features)"
   ]
  },
  {
   "cell_type": "code",
   "execution_count": null,
   "id": "0d6ae957",
   "metadata": {},
   "outputs": [],
   "source": [
    "import pickle\n",
    "\n",
    "with open('./labels.array', 'wb') as labels:\n",
    "    pickle.dump(labels_array, labels)"
   ]
  },
  {
   "cell_type": "markdown",
   "id": "dcfa8ca3",
   "metadata": {},
   "source": [
    "<h2 style=\"text-align: left; color:#20a08d; font-size: 25px\"><span>\n",
    "📼 <strong>7. Sauvegarde des fonctions de pré-traitement en script Python</strong></span></h2>"
   ]
  },
  {
   "cell_type": "markdown",
   "id": "12b171f5",
   "metadata": {},
   "source": [
    "Copier ci-dessous le contenu des fonctions ci-dessous:\n",
    "- normalize_audio\n",
    "- remove_silence_from_audio\n",
    "- length_equalization_audio\n",
    "- noise_reduction_from_audio\n",
    "- preprocess_audio\n",
    "- get_energy_rms()\n",
    "- get_zcr()\n",
    "- get_mfcc()\n",
    "- extract_features_audio()\n",
    "- process_data()"
   ]
  },
  {
   "cell_type": "code",
   "execution_count": null,
   "id": "f7fbaa3b",
   "metadata": {},
   "outputs": [],
   "source": [
    "%%writefile ../3.RealtimeEvaluation/preprocessing.py\n",
    "MAX_SAMPLES = 96000\n",
    "\n",
    "import os\n",
    "import numpy as np\n",
    "import random\n",
    "\n",
    "from pydub import AudioSegment, effects\n",
    "import librosa\n",
    "import soundfile as sf\n",
    "from scipy.io import wavfile\n",
    "import noisereduce as nr\n",
    "\n",
    "import matplotlib.pyplot as plt\n",
    "from librosa import display\n",
    "\n"
   ]
  },
  {
   "cell_type": "code",
   "execution_count": null,
   "id": "3460f696",
   "metadata": {},
   "outputs": [],
   "source": []
  }
 ],
 "metadata": {
  "kernelspec": {
   "display_name": "Python 3 (ipykernel)",
   "language": "python",
   "name": "python3"
  },
  "language_info": {
   "codemirror_mode": {
    "name": "ipython",
    "version": 3
   },
   "file_extension": ".py",
   "mimetype": "text/x-python",
   "name": "python",
   "nbconvert_exporter": "python",
   "pygments_lexer": "ipython3",
   "version": "3.7.2"
  }
 },
 "nbformat": 4,
 "nbformat_minor": 5
}
